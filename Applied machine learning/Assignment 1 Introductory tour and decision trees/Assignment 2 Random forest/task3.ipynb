{
 "cells": [
  {
   "cell_type": "code",
   "metadata": {
    "tags": [],
    "cell_id": "b7dea49e-479f-40e9-b0e0-025067cd20ba",
    "deepnote_to_be_reexecuted": false,
    "source_hash": "2604198b",
    "execution_start": 1642764834109,
    "execution_millis": 1088,
    "deepnote_cell_type": "code"
   },
   "source": "import pandas as pd\nimport numpy as np\nfrom sklearn.model_selection import train_test_split\n\n# Read the CSV file using Pandas.\nalldata = pd.read_csv(\"sberbank.csv\")\n\n# Convert the timestamp string to an integer representing the year.\ndef get_year(timestamp):\n    return int(timestamp[:4])\nalldata['year'] = alldata.timestamp.apply(get_year)\n\n# Select the 9 input columns and the output column.\nselected_columns = ['price_doc', 'year', 'full_sq', 'life_sq', 'floor', 'num_room', 'kitch_sq', 'full_all']\nalldata = alldata[selected_columns]\nalldata = alldata.dropna()\n\n# Shuffle.\nalldata_shuffled = alldata.sample(frac=1.0, random_state=0)\n\n# Separate the input and output columns.\nX = alldata_shuffled.drop('price_doc', axis=1)\n# For the output, we'll use the log of the sales price.\nY = alldata_shuffled['price_doc'].apply(np.log)\n\n# Split into training and test sets.\nXtrain, Xtest, Ytrain, Ytest = train_test_split(X, Y, test_size=0.2, random_state=0)",
   "outputs": [],
   "execution_count": null
  },
  {
   "cell_type": "markdown",
   "source": "The code blocks below will try out different regressors and compare their accuracy (neg-mean-squared-error). For the \"best\" regressor we will also tune the hyperparameters and see how to further improve the score.",
   "metadata": {
    "cell_id": "ef50dd61-517a-4c60-9308-eadc5851e483",
    "tags": [],
    "deepnote_cell_type": "markdown"
   }
  },
  {
   "cell_type": "code",
   "metadata": {
    "cell_id": "5036ba08-1ab5-4cb8-922d-b045ce7d7cb5",
    "tags": [],
    "deepnote_to_be_reexecuted": false,
    "source_hash": "dcf6184e",
    "execution_start": 1642763270727,
    "execution_millis": 25,
    "deepnote_output_heights": [
     59.5625
    ],
    "deepnote_cell_type": "code"
   },
   "source": "from sklearn.dummy import DummyRegressor\nfrom sklearn.model_selection import cross_validate\nm1 = DummyRegressor()\ncross_validate(m1, Xtrain, Ytrain, scoring='neg_mean_squared_error')",
   "outputs": [
    {
     "output_type": "execute_result",
     "execution_count": 2,
     "data": {
      "text/plain": "{'fit_time': array([0.00189114, 0.00213599, 0.00138235, 0.00137305, 0.00109386]),\n 'score_time': array([0.00050831, 0.00032997, 0.00038385, 0.00026655, 0.00026512]),\n 'test_score': array([-0.39897319, -0.37113485, -0.38083108, -0.39057156, -0.40475168])}"
     },
     "metadata": {}
    }
   ],
   "execution_count": null
  },
  {
   "cell_type": "code",
   "metadata": {
    "cell_id": "64c52274-11fb-4e53-abd2-d1a39e84195a",
    "tags": [],
    "deepnote_to_be_reexecuted": false,
    "source_hash": "2d61e973",
    "execution_start": 1642763270754,
    "execution_millis": 158,
    "deepnote_output_heights": [
     59.5625
    ],
    "deepnote_cell_type": "code"
   },
   "source": "from sklearn.linear_model import LinearRegression\nreg = LinearRegression()\ncross_validate(reg, Xtrain, Ytrain, scoring='neg_mean_squared_error')\n",
   "outputs": [
    {
     "output_type": "execute_result",
     "execution_count": 3,
     "data": {
      "text/plain": "{'fit_time': array([0.01147294, 0.01252604, 0.01252556, 0.01225662, 0.03260326]),\n 'score_time': array([0.00759077, 0.00638628, 0.00571728, 0.00623417, 0.00565815]),\n 'test_score': array([-0.30222063, -0.32537384, -0.29377903, -0.29296258, -0.29265721])}"
     },
     "metadata": {}
    }
   ],
   "execution_count": null
  },
  {
   "cell_type": "code",
   "metadata": {
    "cell_id": "01bf563a-0d91-4de7-935c-65efb5bd7df9",
    "tags": [],
    "deepnote_to_be_reexecuted": false,
    "source_hash": "77c4bd9e",
    "execution_start": 1642763270914,
    "execution_millis": 104,
    "deepnote_output_heights": [
     59.5625
    ],
    "deepnote_cell_type": "code"
   },
   "source": "from sklearn.linear_model import Ridge\nreg = Ridge(alpha=0.5)\ncross_validate(reg, Xtrain, Ytrain, scoring='neg_mean_squared_error')\n",
   "outputs": [
    {
     "output_type": "execute_result",
     "execution_count": 4,
     "data": {
      "text/plain": "{'fit_time': array([0.01300049, 0.0117476 , 0.01122737, 0.02596211, 0.00482178]),\n 'score_time': array([0.00507998, 0.00535345, 0.00525331, 0.00498056, 0.00286078]),\n 'test_score': array([-0.30222063, -0.32537215, -0.29377867, -0.29296257, -0.29265723])}"
     },
     "metadata": {}
    }
   ],
   "execution_count": null
  },
  {
   "cell_type": "code",
   "metadata": {
    "cell_id": "95e57f2d-0068-404b-94ba-feaa8de784e9",
    "tags": [],
    "deepnote_to_be_reexecuted": false,
    "source_hash": "b1eb583a",
    "execution_start": 1642763271024,
    "execution_millis": 114,
    "deepnote_output_heights": [
     59.5625
    ],
    "deepnote_cell_type": "code"
   },
   "source": "from sklearn import linear_model\nreg = linear_model.Lasso(alpha=0.1)\ncross_validate(reg, Xtrain, Ytrain, scoring='neg_mean_squared_error')\n",
   "outputs": [
    {
     "output_type": "execute_result",
     "execution_count": 5,
     "data": {
      "text/plain": "{'fit_time': array([0.00780582, 0.0056355 , 0.00527096, 0.00544238, 0.0053246 ]),\n 'score_time': array([0.0040915 , 0.00273085, 0.00265765, 0.00312972, 0.00304341]),\n 'test_score': array([-0.30610375, -0.29565704, -0.29538912, -0.29693918, -0.29680415])}"
     },
     "metadata": {}
    }
   ],
   "execution_count": null
  },
  {
   "cell_type": "code",
   "metadata": {
    "cell_id": "43da7b41-2ba4-4ef2-ac8f-df951080628e",
    "tags": [],
    "deepnote_to_be_reexecuted": false,
    "source_hash": "5827cb49",
    "execution_start": 1642763271137,
    "execution_millis": 195,
    "deepnote_output_heights": [
     59.5625
    ],
    "deepnote_cell_type": "code"
   },
   "source": "from sklearn.tree import DecisionTreeRegressor\nreg = DecisionTreeRegressor(random_state=0, max_depth=7)\ncross_validate(reg, Xtrain, Ytrain, scoring='neg_mean_squared_error')",
   "outputs": [
    {
     "output_type": "execute_result",
     "execution_count": 6,
     "data": {
      "text/plain": "{'fit_time': array([0.02644587, 0.03170538, 0.02386308, 0.02276182, 0.0233674 ]),\n 'score_time': array([0.00199318, 0.00345159, 0.00390291, 0.00198483, 0.00645828]),\n 'test_score': array([-0.29285216, -0.26996091, -0.27846808, -0.29068246, -0.28085178])}"
     },
     "metadata": {}
    }
   ],
   "execution_count": null
  },
  {
   "cell_type": "code",
   "metadata": {
    "cell_id": "e6729664-3f76-40d8-a857-e35d8d4a8624",
    "tags": [],
    "deepnote_to_be_reexecuted": false,
    "source_hash": "85f1a1d0",
    "execution_start": 1642763271376,
    "execution_millis": 61061,
    "deepnote_output_heights": [
     59.59375
    ],
    "deepnote_cell_type": "code"
   },
   "source": "from sklearn.ensemble import RandomForestRegressor\n\nscores = []\n\n#RandomForestRegressor returns best accuracy so try to tune its max_depth\nfor i in range(7,15):\n    reg = RandomForestRegressor(random_state=0, max_depth=i)\n    score = cross_validate(reg, Xtrain, Ytrain, scoring='neg_mean_squared_error')\n    scores.append(np.mean(score['test_score']))\n    print(i)\nprint(scores)",
   "outputs": [
    {
     "name": "stdout",
     "text": "7\n8\n9\n10\n11\n12\n13\n14\n[-0.2689194348262911, -0.26757810905261775, -0.26636105332193394, -0.2659229822429888, -0.2663712691758204, -0.2669586142977932, -0.26755837751863226, -0.2685012580286584]\n",
     "output_type": "stream"
    }
   ],
   "execution_count": null
  },
  {
   "cell_type": "markdown",
   "source": "The above tried to optimize the RandomForestRegressor for different max_depths. From this we can we that if max_depth = 10 then we get the best mean squared error (-0.2659...). ",
   "metadata": {
    "cell_id": "230ed1b1-66dc-461c-a0c6-f41ff39b16ac",
    "tags": [],
    "deepnote_cell_type": "markdown"
   }
  },
  {
   "cell_type": "code",
   "metadata": {
    "cell_id": "c587d7ff-54d4-41c1-9d63-89705a4911d7",
    "tags": [],
    "deepnote_to_be_reexecuted": false,
    "source_hash": "586fcf41",
    "execution_start": 1642763332419,
    "execution_millis": 10059,
    "deepnote_cell_type": "code"
   },
   "source": "score = cross_validate(reg, Xtrain, Ytrain, scoring='neg_mean_squared_error')\nprint(np.mean(score['test_score']))",
   "outputs": [
    {
     "name": "stdout",
     "text": "-0.2685012580286584\n",
     "output_type": "stream"
    }
   ],
   "execution_count": null
  },
  {
   "cell_type": "code",
   "metadata": {
    "cell_id": "c79fc00f-e2f1-468f-9d62-fb404e4ac642",
    "tags": [],
    "deepnote_to_be_reexecuted": false,
    "source_hash": "fcc3548f",
    "execution_start": 1642763342395,
    "execution_millis": 17760,
    "deepnote_output_heights": [
     78.75
    ],
    "deepnote_cell_type": "code"
   },
   "source": "from sklearn.neural_network import MLPRegressor\nreg = MLPRegressor(random_state=2, max_iter=500)\ncross_validate(reg, Xtrain, Ytrain, scoring='neg_mean_squared_error')",
   "outputs": [
    {
     "output_type": "execute_result",
     "execution_count": 9,
     "data": {
      "text/plain": "{'fit_time': array([2.45369554, 3.58236217, 2.65997005, 5.92295527, 3.09123421]),\n 'score_time': array([0.00534439, 0.00554371, 0.00542736, 0.00527644, 0.00528073]),\n 'test_score': array([ -18.16659949, -273.76033253,  -19.43349626,  -46.93306547,\n          -7.78907333])}"
     },
     "metadata": {}
    }
   ],
   "execution_count": null
  },
  {
   "cell_type": "markdown",
   "source": "RandomForestRegressor returns the best accuracy for the validation score and are therefore used for training of the full training set and evaluated below. Moreover, max_depth = 10 returns the best accuracy when tested above.",
   "metadata": {
    "cell_id": "b49f3d2b-1ba1-407a-ba68-90c54ba40cfd",
    "tags": [],
    "deepnote_cell_type": "markdown"
   }
  },
  {
   "cell_type": "code",
   "metadata": {
    "cell_id": "c9f35948-234d-48d8-8b4d-5b749694b537",
    "tags": [],
    "deepnote_to_be_reexecuted": false,
    "source_hash": "5958a103",
    "execution_start": 1642763360164,
    "execution_millis": 1929,
    "deepnote_output_heights": [
     21.1875
    ],
    "deepnote_cell_type": "code"
   },
   "source": "from sklearn.ensemble import RandomForestRegressor\nfrom sklearn.metrics import mean_squared_error\nregr = RandomForestRegressor(random_state=0, max_depth=10)\nregr.fit(Xtrain, Ytrain)\nmean_squared_error(Ytest, regr.predict(Xtest))",
   "outputs": [
    {
     "output_type": "execute_result",
     "execution_count": 10,
     "data": {
      "text/plain": "0.2740850405500036"
     },
     "metadata": {}
    }
   ],
   "execution_count": null
  },
  {
   "cell_type": "markdown",
   "source": "<a style='text-decoration:none;line-height:16px;display:flex;color:#5B5B62;padding:10px;justify-content:end;' href='https://deepnote.com?utm_source=created-in-deepnote-cell&projectId=42461cb6-6f72-410b-bb93-ced1edaf8704' target=\"_blank\">\n<img alt='Created in deepnote.com' style='display:inline;max-height:16px;margin:0px;margin-right:7.5px;' src='data:image/svg+xml;base64,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' > </img>\nCreated in <span style='font-weight:600;margin-left:4px;'>Deepnote</span></a>",
   "metadata": {
    "tags": [],
    "created_in_deepnote_cell": true,
    "deepnote_cell_type": "markdown"
   }
  }
 ],
 "nbformat": 4,
 "nbformat_minor": 2,
 "metadata": {
  "orig_nbformat": 2,
  "deepnote": {
   "is_reactive": false
  },
  "deepnote_notebook_id": "6db182d0-69f7-4c9e-a2c0-9ccffb89f57e",
  "deepnote_execution_queue": []
 }
}