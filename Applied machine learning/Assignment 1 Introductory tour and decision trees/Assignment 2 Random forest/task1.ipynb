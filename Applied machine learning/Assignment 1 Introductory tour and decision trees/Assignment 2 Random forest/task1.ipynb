{
 "cells": [
  {
   "cell_type": "code",
   "metadata": {
    "cell_id": "00c9103b-af81-4c93-ae89-82da507608e8",
    "tags": [],
    "deepnote_to_be_reexecuted": false,
    "source_hash": "5ee4f877",
    "execution_start": 1642764316216,
    "execution_millis": 0,
    "deepnote_cell_type": "code"
   },
   "source": "import numpy as np\nimport pandas as pd\nfrom sklearn.model_selection import train_test_split, cross_val_score\nfrom sklearn.dummy import DummyClassifier\n",
   "execution_count": null,
   "outputs": []
  },
  {
   "cell_type": "code",
   "metadata": {
    "tags": [],
    "cell_id": "7479760d-de34-43ea-a640-8f0ad555789a",
    "deepnote_to_be_reexecuted": false,
    "source_hash": "353e33f8",
    "execution_start": 1642764317760,
    "execution_millis": 339,
    "deepnote_cell_type": "code"
   },
   "source": "\n  \n# Read the CSV file.\ndata = pd.read_csv(\"CTG.csv\", skiprows=1)\n\n# Select the relevant numerical columns.\nselected_cols = ['LB', 'AC', 'FM', 'UC', 'DL', 'DS', 'DP', 'ASTV', 'MSTV', 'ALTV',\n                 'MLTV', 'Width', 'Min', 'Max', 'Nmax', 'Nzeros', 'Mode', 'Mean',\n                 'Median', 'Variance', 'Tendency', 'NSP']\ndata = data[selected_cols].dropna()\n\n# Shuffle the dataset.\ndata_shuffled = data.sample(frac=1.0, random_state=0)\n\n# Split into input part X and output part Y.\nX = data_shuffled.drop('NSP', axis=1)\n\n# Map the diagnosis code to a human-readable label.\ndef to_label(y):\n    return [None, 'normal', 'suspect', 'pathologic'][(int(y))]\n\nY = data_shuffled['NSP'].apply(to_label)\n\n# Partition the data into training and test sets.\nXtrain, Xtest, Ytrain, Ytest = train_test_split(X, Y, test_size=0.2, random_state=0)",
   "execution_count": null,
   "outputs": []
  },
  {
   "cell_type": "markdown",
   "source": "The code blocks below will try out different classifiers and their accuracy on above data.",
   "metadata": {
    "cell_id": "2e7dc305-2eea-4d83-adf2-7be45946a980",
    "tags": [],
    "deepnote_cell_type": "markdown"
   }
  },
  {
   "cell_type": "code",
   "metadata": {
    "cell_id": "6d5f0ff9-0d12-417f-9c8c-73b0217d3f81",
    "tags": [],
    "deepnote_to_be_reexecuted": false,
    "source_hash": "9488723d",
    "execution_start": 1642764433574,
    "execution_millis": 5,
    "deepnote_output_heights": [
     1
    ],
    "deepnote_cell_type": "code"
   },
   "source": "clf = DummyClassifier(strategy='most_frequent')\nscore_dummy = np.mean(cross_val_score(clf, Xtrain, Ytrain))\nscore_dummy",
   "execution_count": null,
   "outputs": [
    {
     "output_type": "execute_result",
     "execution_count": 13,
     "data": {
      "text/plain": "0.7805882352941176"
     },
     "metadata": {}
    }
   ]
  },
  {
   "cell_type": "markdown",
   "source": "DummyClassifier: Return the most common label in the training set, used as a baseline <br>\nScore = 0.781",
   "metadata": {
    "cell_id": "d77f8704-8de9-4a11-8688-1b48ca75ba80",
    "tags": [],
    "deepnote_cell_type": "markdown"
   }
  },
  {
   "cell_type": "code",
   "metadata": {
    "cell_id": "76ed4cf8-beb2-4b47-b648-4e2209b6a715",
    "tags": [],
    "deepnote_to_be_reexecuted": false,
    "source_hash": "52439e80",
    "execution_start": 1642764450561,
    "execution_millis": 102,
    "deepnote_output_heights": [
     1
    ],
    "deepnote_cell_type": "code"
   },
   "source": "from sklearn.tree import DecisionTreeClassifier\nclf = DecisionTreeClassifier(random_state=0)\nscore_decisionTree = np.mean(cross_val_score(clf, Xtrain, Ytrain))\nscore_decisionTree",
   "execution_count": null,
   "outputs": [
    {
     "output_type": "execute_result",
     "execution_count": 14,
     "data": {
      "text/plain": "0.9241176470588235"
     },
     "metadata": {}
    }
   ]
  },
  {
   "cell_type": "markdown",
   "source": "DecisionTree: Splits the data in homogeneous subgroups based on features <br>\nScore = 0.924",
   "metadata": {
    "cell_id": "5ab0510a-39d6-4a19-b296-4a1fbcfde0c3",
    "tags": [],
    "deepnote_cell_type": "markdown"
   }
  },
  {
   "cell_type": "code",
   "metadata": {
    "cell_id": "bb4501e2-1780-445e-a3dc-553efd14940a",
    "tags": [],
    "deepnote_to_be_reexecuted": false,
    "source_hash": "fe844c2c",
    "execution_start": 1642764451895,
    "execution_millis": 1245,
    "deepnote_output_heights": [
     1
    ],
    "deepnote_cell_type": "code"
   },
   "source": "from sklearn.ensemble import RandomForestClassifier\nclf = RandomForestClassifier(random_state=0)\nscore_randomForest = np.mean(cross_val_score(clf, Xtrain, Ytrain))\nscore_randomForest",
   "execution_count": null,
   "outputs": [
    {
     "output_type": "execute_result",
     "execution_count": 15,
     "data": {
      "text/plain": "0.9429411764705883"
     },
     "metadata": {}
    }
   ]
  },
  {
   "cell_type": "markdown",
   "source": "RandomForest: An ensamble of DecisionTree classifiers and uses averaging to improve the predictive accuracy <br>\nScore: 0.9429",
   "metadata": {
    "cell_id": "6813b6d7-173b-4b67-8f42-0544aaaafd2d",
    "tags": [],
    "deepnote_cell_type": "markdown"
   }
  },
  {
   "cell_type": "code",
   "metadata": {
    "cell_id": "d5b4516e-505a-4ee7-a1f4-b6f96a5213f3",
    "tags": [],
    "deepnote_to_be_reexecuted": false,
    "source_hash": "95b7300d",
    "execution_start": 1642764453794,
    "execution_millis": 5236,
    "deepnote_output_heights": [
     1
    ],
    "deepnote_cell_type": "code"
   },
   "source": "from sklearn.ensemble import GradientBoostingClassifier\nclf = GradientBoostingClassifier(random_state=0)\nscore_gradientBoosting = np.mean(cross_val_score(clf, Xtrain, Ytrain))\nscore_gradientBoosting",
   "execution_count": null,
   "outputs": [
    {
     "output_type": "execute_result",
     "execution_count": 16,
     "data": {
      "text/plain": "0.9494117647058824"
     },
     "metadata": {}
    }
   ]
  },
  {
   "cell_type": "markdown",
   "source": "GradientBoosting: Builds an additive model in a forward stage-wise fashion. Optimization of arbitrary differentiable loss function <br>\nScore: 0.949",
   "metadata": {
    "cell_id": "a17b40ec-5cb4-478a-b7b0-260cc2210192",
    "tags": [],
    "deepnote_cell_type": "markdown"
   }
  },
  {
   "cell_type": "code",
   "metadata": {
    "cell_id": "6709c1fe-1cc8-4486-b53c-e9130aee414c",
    "tags": [],
    "deepnote_to_be_reexecuted": false,
    "source_hash": "58c79e16",
    "execution_start": 1642764459031,
    "execution_millis": 75,
    "deepnote_output_heights": [
     1
    ],
    "deepnote_cell_type": "code"
   },
   "source": "from sklearn.linear_model import Perceptron\nclf = Perceptron(tol=1e-3, random_state=0)\nscore_perceptron = np.mean(cross_val_score(clf,Xtrain,Ytrain))\nscore_perceptron",
   "execution_count": null,
   "outputs": [
    {
     "output_type": "execute_result",
     "execution_count": 17,
     "data": {
      "text/plain": "0.825294117647059"
     },
     "metadata": {}
    }
   ]
  },
  {
   "cell_type": "markdown",
   "source": "Perceptron: A linear classifier which separates the classes by a hyperplane in the space of the features.\n\nScore: 0.825",
   "metadata": {
    "cell_id": "c9d96d49-ace1-4482-bc5e-ca2efa4b57fc",
    "tags": [],
    "deepnote_cell_type": "markdown"
   }
  },
  {
   "cell_type": "code",
   "metadata": {
    "cell_id": "ea9fddc4-074e-42bc-88d1-597070f0f636",
    "tags": [],
    "deepnote_to_be_reexecuted": false,
    "source_hash": "ca8dc9ab",
    "execution_start": 1642764460980,
    "execution_millis": 5815,
    "deepnote_output_heights": [
     21.1875
    ],
    "deepnote_cell_type": "code"
   },
   "source": "from sklearn.neural_network import MLPClassifier\nclf = MLPClassifier(random_state=1, max_iter=300)\nscore_MLP = np.mean(cross_val_score(clf, Xtrain, Ytrain))\nscore_MLP",
   "execution_count": null,
   "outputs": [
    {
     "output_type": "execute_result",
     "execution_count": 18,
     "data": {
      "text/plain": "0.8558823529411764"
     },
     "metadata": {}
    }
   ]
  },
  {
   "cell_type": "markdown",
   "source": "MLP: Multi-layered perceptron classifier. Optimizes the model through a log-loss function that utilizes LBFGS or stochastis gradient descent <br>\nScore : 0.856",
   "metadata": {
    "cell_id": "6fe37491-5a4f-4220-9f77-c5942e958338",
    "tags": [],
    "deepnote_cell_type": "markdown"
   }
  },
  {
   "cell_type": "markdown",
   "source": "### Final evaluation",
   "metadata": {
    "cell_id": "153f7de9-a491-42ff-ad47-5f027acf5388",
    "tags": [],
    "deepnote_cell_type": "markdown"
   }
  },
  {
   "cell_type": "code",
   "metadata": {
    "cell_id": "1dc26f81-d5f3-4595-9e6d-f177380b50e7",
    "tags": [],
    "deepnote_to_be_reexecuted": false,
    "source_hash": "3528a110",
    "execution_start": 1642764466794,
    "execution_millis": 314,
    "deepnote_cell_type": "code"
   },
   "source": "from sklearn.metrics import accuracy_score\nclf = RandomForestClassifier(random_state=0)\nclf.fit(Xtrain, Ytrain)\nYguess = clf.predict(Xtest)\nprint(accuracy_score(Ytest, Yguess))",
   "execution_count": null,
   "outputs": [
    {
     "name": "stdout",
     "text": "0.9272300469483568\n",
     "output_type": "stream"
    }
   ]
  },
  {
   "cell_type": "markdown",
   "source": "Random forest classifier gives a high cross-validation score and are therefore used in step 4, final evaluation. Random forest classifers uses by default 100 decision trees that each utilizes a random number of features to give predictions on the data. After creating the decisions trees the majority decision of the trees determines the predition of the output.",
   "metadata": {
    "cell_id": "3a34db73-85b9-4d80-81fe-6c6d96123803",
    "tags": [],
    "deepnote_cell_type": "markdown"
   }
  },
  {
   "cell_type": "markdown",
   "source": "<a style='text-decoration:none;line-height:16px;display:flex;color:#5B5B62;padding:10px;justify-content:end;' href='https://deepnote.com?utm_source=created-in-deepnote-cell&projectId=42461cb6-6f72-410b-bb93-ced1edaf8704' target=\"_blank\">\n<img alt='Created in deepnote.com' style='display:inline;max-height:16px;margin:0px;margin-right:7.5px;' src='data:image/svg+xml;base64,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' > </img>\nCreated in <span style='font-weight:600;margin-left:4px;'>Deepnote</span></a>",
   "metadata": {
    "tags": [],
    "created_in_deepnote_cell": true,
    "deepnote_cell_type": "markdown"
   }
  }
 ],
 "nbformat": 4,
 "nbformat_minor": 2,
 "metadata": {
  "orig_nbformat": 2,
  "deepnote": {
   "is_reactive": false
  },
  "deepnote_notebook_id": "d98c2423-77cf-43bc-963b-ced61ec72cfe",
  "deepnote_execution_queue": []
 }
}