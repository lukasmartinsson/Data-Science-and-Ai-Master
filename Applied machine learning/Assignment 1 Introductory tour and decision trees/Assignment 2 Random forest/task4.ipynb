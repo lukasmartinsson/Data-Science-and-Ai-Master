{
 "cells": [
  {
   "cell_type": "code",
   "execution_count": null,
   "metadata": {
    "cell_id": "5588dd0b-d09f-4ae4-834a-c38ac7028817",
    "deepnote_cell_type": "code",
    "deepnote_to_be_reexecuted": false,
    "execution_millis": 1733,
    "execution_start": 1642763421329,
    "source_hash": "f59f063d",
    "tags": []
   },
   "outputs": [],
   "source": [
    "import numpy as np\n",
    "import pandas as pd\n",
    "import matplotlib.pyplot as plt\n",
    "from sklearn.model_selection import cross_validate, train_test_split\n",
    "from sklearn.metrics import mean_squared_error\n",
    "\n"
   ]
  },
  {
   "cell_type": "code",
   "execution_count": null,
   "metadata": {
    "cell_id": "32956270-b69d-4576-a393-848db77f06e3",
    "deepnote_cell_type": "code",
    "deepnote_to_be_reexecuted": false,
    "execution_millis": 10,
    "execution_start": 1642763423160,
    "source_hash": "a39fd15c",
    "tags": []
   },
   "outputs": [],
   "source": [
    "class DecisionTreeLeaf:\n",
    "\n",
    "    def __init__(self, value):\n",
    "        self.value = value\n",
    "\n",
    "    # This method computes the prediction for this leaf node. This will just return a constant value.\n",
    "    def predict(self, x):\n",
    "        return self.value\n",
    "\n",
    "    # Utility function to draw a tree visually using graphviz.\n",
    "    def draw_tree(self, graph, node_counter, names):\n",
    "        node_id = str(node_counter)\n",
    "        val_str = f'{self.value:.4g}' if isinstance(self.value, float) else str(self.value)\n",
    "        graph.node(node_id, val_str, style='filled')\n",
    "        return node_counter+1, node_id\n",
    "        \n",
    "    def __eq__(self, other):\n",
    "        if isinstance(other, DecisionTreeLeaf):\n",
    "            return self.value == other.value\n",
    "        else:\n",
    "            return False\n",
    "\n",
    "class DecisionTreeBranch:\n",
    "\n",
    "    def __init__(self, feature, threshold, low_subtree, high_subtree):\n",
    "        self.feature = feature\n",
    "        self.threshold = threshold\n",
    "        self.low_subtree = low_subtree\n",
    "        self.high_subtree = high_subtree\n",
    "\n",
    "    # For a branch node, we compute the prediction by first considering the feature, and then \n",
    "    # calling the upper or lower subtree, depending on whether the feature is or isn't greater\n",
    "    # than the threshold.\n",
    "    def predict(self, x):\n",
    "        if x[self.feature] <= self.threshold:\n",
    "            return self.low_subtree.predict(x)\n",
    "        else:\n",
    "            return self.high_subtree.predict(x)\n",
    "\n",
    "    # Utility function to draw a tree visually using graphviz.\n",
    "    def draw_tree(self, graph, node_counter, names):\n",
    "        node_counter, low_id = self.low_subtree.draw_tree(graph, node_counter, names)\n",
    "        node_counter, high_id = self.high_subtree.draw_tree(graph, node_counter, names)\n",
    "        node_id = str(node_counter)\n",
    "        fname = f'F{self.feature}' if names is None else names[self.feature]\n",
    "        lbl = f'{fname} > {self.threshold:.4g}?'\n",
    "        graph.node(node_id, lbl, shape='box', fillcolor='yellow', style='filled, rounded')\n",
    "        graph.edge(node_id, low_id, 'False')\n",
    "        graph.edge(node_id, high_id, 'True')\n",
    "        return node_counter+1, node_id\n",
    "\n",
    "\n",
    "from graphviz import Digraph\n",
    "from sklearn.base import BaseEstimator, ClassifierMixin\n",
    "from abc import ABC, abstractmethod\n",
    "\n",
    "class DecisionTree(ABC, BaseEstimator):\n",
    "\n",
    "    def __init__(self, max_depth):\n",
    "        super().__init__()\n",
    "        self.max_depth = max_depth\n",
    "        \n",
    "    # As usual in scikit-learn, the training method is called *fit*. We first process the dataset so that\n",
    "    # we're sure that it's represented as a NumPy matrix. Then we call the recursive tree-building method\n",
    "    # called make_tree (see below).\n",
    "    def fit(self, X, Y):\n",
    "        if isinstance(X, pd.DataFrame):\n",
    "            self.names = X.columns\n",
    "            X = X.to_numpy()\n",
    "        elif isinstance(X, list):\n",
    "            self.names = None\n",
    "            X = np.array(X)\n",
    "        else:\n",
    "            self.names = None\n",
    "        Y = np.array(Y)        \n",
    "        self.root = self.make_tree(X, Y, self.max_depth)\n",
    "        \n",
    "    def draw_tree(self):\n",
    "        graph = Digraph()\n",
    "        self.root.draw_tree(graph, 0, self.names)\n",
    "        return graph\n",
    "    \n",
    "    # By scikit-learn convention, the method *predict* computes the classification or regression output\n",
    "    # for a set of instances.\n",
    "    # To implement it, we call a separate method that carries out the prediction for one instance.\n",
    "    def predict(self, X):\n",
    "        if isinstance(X, pd.DataFrame):\n",
    "            X = X.to_numpy()\n",
    "        return [self.predict_one(x) for x in X]\n",
    "\n",
    "    # Predicting the output for one instance.\n",
    "    def predict_one(self, x):\n",
    "        return self.root.predict(x)        \n",
    "\n",
    "    # This is the recursive training \n",
    "    def make_tree(self, X, Y, max_depth):\n",
    "\n",
    "        # We start by computing the default value that will be used if we'll return a leaf node.\n",
    "        # For classifiers, this will be the most common value in Y.\n",
    "        default_value = self.get_default_value(Y)\n",
    "\n",
    "        # First the two base cases in the recursion: is the training set completely\n",
    "        # homogeneous, or have we reached the maximum depth? Then we need to return a leaf.\n",
    "\n",
    "        # If we have reached the maximum depth, return a leaf with the majority value.\n",
    "        if max_depth == 0:\n",
    "            return DecisionTreeLeaf(default_value)\n",
    "\n",
    "        # If all the instances in the remaining training set have the same output value,\n",
    "        # return a leaf with this value.\n",
    "        if self.is_homogeneous(Y):\n",
    "            return DecisionTreeLeaf(default_value)\n",
    "\n",
    "        # Select the \"most useful\" feature and split threshold. To rank the \"usefulness\" of features,\n",
    "        # we use one of the classification or regression criteria.\n",
    "        # For each feature, we call best_split (defined in a subclass). We then maximize over the features.\n",
    "        n_features = X.shape[1]\n",
    "        _, best_feature, best_threshold = max(self.best_split(X, Y, feature) for feature in range(n_features))\n",
    "        \n",
    "        if best_feature is None:\n",
    "            return DecisionTreeLeaf(default_value)\n",
    "\n",
    "        # Split the training set into subgroups, based on whether the selected feature is greater than\n",
    "        # the threshold or not\n",
    "        X_low, X_high, Y_low, Y_high = self.split_by_feature(X, Y, best_feature, best_threshold)\n",
    "\n",
    "        # Build the subtrees using a recursive call. Each subtree is associated\n",
    "        # with a value of the feature.\n",
    "        low_subtree = self.make_tree(X_low, Y_low, max_depth-1)\n",
    "        high_subtree = self.make_tree(X_high, Y_high, max_depth-1)\n",
    "\n",
    "        if low_subtree == high_subtree:\n",
    "            return low_subtree\n",
    "\n",
    "        # Return a decision tree branch containing the result.\n",
    "        return DecisionTreeBranch(best_feature, best_threshold, low_subtree, high_subtree)\n",
    "    \n",
    "    # Utility method that splits the data into the \"upper\" and \"lower\" part, based on a feature\n",
    "    # and a threshold.\n",
    "    def split_by_feature(self, X, Y, feature, threshold):\n",
    "        low = X[:,feature] <= threshold\n",
    "        high = ~low\n",
    "        return X[low], X[high], Y[low], Y[high]\n",
    "    \n",
    "    # The following three methods need to be implemented by the classification and regression subclasses.\n",
    "    \n",
    "    @abstractmethod\n",
    "    def get_default_value(self, Y):\n",
    "        pass\n",
    "\n",
    "    @abstractmethod\n",
    "    def is_homogeneous(self, Y):\n",
    "        pass\n",
    "\n",
    "    @abstractmethod\n",
    "    def best_split(self, X, Y, feature):\n",
    "        pass\n",
    "\n",
    "from collections import Counter\n",
    "\n",
    "class TreeClassifier(DecisionTree, ClassifierMixin):\n",
    "\n",
    "    def __init__(self, max_depth=10, criterion='maj_sum'):\n",
    "        super().__init__(max_depth)\n",
    "        self.criterion = criterion\n",
    "        \n",
    "    def fit(self, X, Y):\n",
    "        # For decision tree classifiers, there are some different ways to measure\n",
    "        # the homogeneity of subsets.\n",
    "        if self.criterion == 'maj_sum':\n",
    "            self.criterion_function = majority_sum_scorer\n",
    "        elif self.criterion == 'info_gain':\n",
    "            self.criterion_function = info_gain_scorer\n",
    "        elif self.criterion == 'gini':\n",
    "            self.criterion_function = gini_scorer\n",
    "        else:\n",
    "            raise Exception(f'Unknown criterion: {self.criterion}')\n",
    "        super().fit(X, Y)\n",
    "        self.classes_ = sorted(set(Y))\n",
    "\n",
    "    # Select a default value that is going to be used if we decide to make a leaf.\n",
    "    # We will select the most common value.\n",
    "    def get_default_value(self, Y):\n",
    "        self.class_distribution = Counter(Y)\n",
    "        return self.class_distribution.most_common(1)[0][0]\n",
    "    \n",
    "    # Checks whether a set of output values is homogeneous. In the classification case, \n",
    "    # this means that all output values are identical.\n",
    "    # We assume that we called get_default_value just before, so that we can access\n",
    "    # the class_distribution attribute. If the class distribution contains just one item,\n",
    "    # this means that the set is homogeneous.\n",
    "    def is_homogeneous(self, Y):\n",
    "        return len(self.class_distribution) == 1\n",
    "        \n",
    "    # Finds the best splitting point for a given feature. We'll keep frequency tables (Counters)\n",
    "    # for the upper and lower parts, and then compute the impurity criterion using these tables.\n",
    "    # In the end, we return a triple consisting of\n",
    "    # - the best score we found, according to the criterion we're using\n",
    "    # - the id of the feature\n",
    "    # - the threshold for the best split\n",
    "    def best_split(self, X, Y, feature):\n",
    "\n",
    "        # Create a list of input-output pairs, where we have sorted\n",
    "        # in ascending order by the input feature we're considering.\n",
    "        sorted_indices = np.argsort(X[:, feature])        \n",
    "        X_sorted = list(X[sorted_indices, feature])\n",
    "        Y_sorted = list(Y[sorted_indices])\n",
    "\n",
    "        n = len(Y)\n",
    "\n",
    "        # The frequency tables corresponding to the parts *before and including*\n",
    "        # and *after* the current element.\n",
    "        low_distr = Counter()\n",
    "        high_distr = Counter(Y)\n",
    "\n",
    "        # Keep track of the best result we've seen so far.\n",
    "        max_score = -np.inf\n",
    "        max_i = None\n",
    "\n",
    "        # Go through all the positions (excluding the last position).\n",
    "        for i in range(0, n-1):\n",
    "\n",
    "            # Input and output at the current position.\n",
    "            x_i = X_sorted[i]\n",
    "            y_i = Y_sorted[i]\n",
    "            \n",
    "            # Update the frequency tables.\n",
    "            low_distr[y_i] += 1\n",
    "            high_distr[y_i] -= 1\n",
    "\n",
    "            # If the input is equal to the input at the next position, we will\n",
    "            # not consider a split here.\n",
    "            #x_next = XY[i+1][0]\n",
    "            x_next = X_sorted[i+1]\n",
    "            if x_i == x_next:\n",
    "                continue\n",
    "\n",
    "            # Compute the homogeneity criterion for a split at this position.\n",
    "            score = self.criterion_function(i+1, low_distr, n-i-1, high_distr)\n",
    "\n",
    "            # If this is the best split, remember it.\n",
    "            if score > max_score:\n",
    "                max_score = score\n",
    "                max_i = i\n",
    "\n",
    "        # If we didn't find any split (meaning that all inputs are identical), return\n",
    "        # a dummy value.\n",
    "        if max_i is None:\n",
    "            return -np.inf, None, None\n",
    "\n",
    "        # Otherwise, return the best split we found and its score.\n",
    "        split_point = 0.5*(X_sorted[max_i] + X_sorted[max_i+1])\n",
    "        return max_score, feature, split_point\n",
    "\n",
    "def majority_sum_scorer(n_low, low_distr, n_high, high_distr):\n",
    "    maj_sum_low = low_distr.most_common(1)[0][1]\n",
    "    maj_sum_high = high_distr.most_common(1)[0][1]\n",
    "    return maj_sum_low + maj_sum_high\n",
    "    \n",
    "def entropy(distr):\n",
    "    n = sum(distr.values())\n",
    "    ps = [n_i/n for n_i in distr.values()]\n",
    "    return -sum(p*np.log2(p) if p > 0 else 0 for p in ps)\n",
    "\n",
    "def info_gain_scorer(n_low, low_distr, n_high, high_distr):\n",
    "    return -(n_low*entropy(low_distr)+n_high*entropy(high_distr))/(n_low+n_high)\n",
    "\n",
    "def gini_impurity(distr):\n",
    "    n = sum(distr.values())\n",
    "    ps = [n_i/n for n_i in distr.values()]\n",
    "    return 1-sum(p**2 for p in ps)\n",
    "    \n",
    "def gini_scorer(n_low, low_distr, n_high, high_distr):\n",
    "    return -(n_low*gini_impurity(low_distr)+n_high*gini_impurity(high_distr))/(n_low+n_high)"
   ]
  },
  {
   "cell_type": "markdown",
   "metadata": {
    "cell_id": "91fcd598-c9d0-4b8c-bd6f-4e9d1db24824",
    "deepnote_cell_type": "markdown",
    "tags": []
   },
   "source": [
    "## Step 1: Implementing the regression model"
   ]
  },
  {
   "cell_type": "code",
   "execution_count": null,
   "metadata": {
    "cell_id": "d5c4beeb-8264-4f19-8f10-cc7db2f1d876",
    "deepnote_cell_type": "code",
    "deepnote_to_be_reexecuted": false,
    "execution_millis": 2,
    "execution_start": 1642763423183,
    "source_hash": "e502a8d7",
    "tags": []
   },
   "outputs": [],
   "source": [
    "from collections import Counter\n",
    "from sklearn.base import RegressorMixin\n",
    "\n",
    "class TreeRegressor(DecisionTree, RegressorMixin):\n",
    "\n",
    "    def __init__(self, max_depth=10, criterion='var_red', threshold=0.1):\n",
    "        super().__init__(max_depth)\n",
    "        self.criterion = criterion\n",
    "        self.threshold = threshold\n",
    "        \n",
    "    def fit(self, X, Y):\n",
    "        #The only implemented way of calculating homogeneity is with the variance_reduction formula\n",
    "        if self.criterion == 'var_red':\n",
    "            self.criterion_function = variance_calc\n",
    "        else:\n",
    "            raise Exception(f'Unknown criterion: {self.criterion}')\n",
    "        super().fit(X, Y)\n",
    "        self.classes_ = sorted(set(Y))\n",
    "\n",
    "    # Select a default value that is going to be used if we decide to make a leaf.\n",
    "    # We will select the mean value\n",
    "    def get_default_value(self, Y):\n",
    "        self.class_distribution = Y\n",
    "        return np.mean(self.class_distribution)\n",
    "        \n",
    "    #Check whether a set of output values i homogeneous. In the regression case,\n",
    "    #this means that the variance of all output values are below a certain threshold.\n",
    "    #The threshold is specified when creating a TreeRegressor, default value 0.1.\n",
    "    def is_homogeneous(self, Y):\n",
    "        return np.var(self.class_distribution) <= self.threshold\n",
    "\n",
    "    # Finds the best splitting point for a given feature. We'll keep frequency tables (Counters)\n",
    "    # for the upper and lower parts, and then compute the impurity criterion using these tables.\n",
    "    # We'll keep track of the sum of lower and higher subset respectively, as well as its squared sums.\n",
    "    # In the end, we return a triple consisting of\n",
    "    # - the best score we found, according to the criterion we're using\n",
    "    # - the id of the feature\n",
    "    # - the threshold for the best split\n",
    "    def best_split(self, X, Y, feature):\n",
    "\n",
    "        # Create a list of input-output pairs, where we have sorted\n",
    "        # in ascending order by the input feature we're considering.\n",
    "        sorted_indices = np.argsort(X[:, feature])        \n",
    "        X_sorted = list(X[sorted_indices, feature])\n",
    "        Y_sorted = list(Y[sorted_indices])\n",
    "\n",
    "        n = len(Y)\n",
    "        varY = np.var(Y)\n",
    "        \n",
    "        # Keeps track of sum and squared sum for the high and low partition\n",
    "        high_sum = sum(Y_sorted)\n",
    "        low_sum = 0\n",
    "        \n",
    "        # Keeps track of the squared sums for the high and low partition\n",
    "        Y_squared = np.square(Y_sorted)\n",
    "        high_sq_sum = sum(Y_squared)\n",
    "        low_sq_sum = 0\n",
    "\n",
    "        # Keep track of the best result we've seen so far.\n",
    "        max_score = -np.inf\n",
    "        max_i = None\n",
    "\n",
    "        # Go through all the positions (excluding the last position).\n",
    "        for i in range(0, n-1):\n",
    "\n",
    "            # Input and output at the current position.\n",
    "            x_i = X_sorted[i]\n",
    "            y_i = Y_sorted[i] \n",
    "\n",
    "            # Updates sums and squared sums of high and low partition when element i is moved from high to low partition\n",
    "            high_sum -= y_i\n",
    "            low_sum += y_i          \n",
    "            high_sq_sum -= y_i**2\n",
    "            low_sq_sum += y_i**2\n",
    "\n",
    "            # If the input is equal to the input at the next position, we will\n",
    "            # not consider a split here.\n",
    "            x_next = X_sorted[i+1]\n",
    "            if x_i == x_next:\n",
    "                continue\n",
    "\n",
    "            # Compute the homogenity criterion for a split at this position.\n",
    "            score = self.criterion_function(varY, i, n, high_sum, low_sum, high_sq_sum, low_sq_sum)\n",
    "\n",
    "            # If this is the best split, remember it.\n",
    "            if score > max_score:\n",
    "                max_score = score\n",
    "                max_i = i\n",
    "\n",
    "        # If we didn't find any split (meaning that all inputs are identical), return\n",
    "        # a dummy value.\n",
    "        if max_i is None:\n",
    "            return -np.inf, None, None\n",
    "\n",
    "        # Otherwise, return the best split we found and its score.\n",
    "        split_point = 0.5*(X_sorted[max_i] + X_sorted[max_i+1])\n",
    "        return max_score, feature, split_point\n",
    "\n",
    "\n",
    "def variance_calc(varY, i, n, high_sum, low_sum, high_sq_sum, low_sq_sum):\n",
    "    #number of elements in low tree\n",
    "    size = i+1\n",
    "    \n",
    "    #calculation of variance for high and low partition\n",
    "    low_var = 1/size * low_sq_sum - (low_sum/size)**2\n",
    "    high_var = 1/(n-size) * high_sq_sum - (high_sum/(n-size))**2\n",
    "    \n",
    "    #returns variance reduction\n",
    "    return varY - (n-size)/n * high_var - size/n * low_var\n",
    "\n"
   ]
  },
  {
   "cell_type": "markdown",
   "metadata": {
    "cell_id": "b436af04-c932-4145-988d-dcbf61c8ea0e",
    "deepnote_cell_type": "markdown",
    "tags": []
   },
   "source": [
    "## Step 2: Sanity check"
   ]
  },
  {
   "cell_type": "code",
   "execution_count": null,
   "metadata": {
    "cell_id": "ebd0d759-927f-4c72-af96-7804444a43da",
    "deepnote_cell_type": "code",
    "deepnote_output_heights": [
     null,
     176.65625
    ],
    "deepnote_to_be_reexecuted": false,
    "execution_millis": 131,
    "execution_start": 1642763423191,
    "source_hash": "76e99bd2",
    "tags": []
   },
   "outputs": [
    {
     "name": "stdout",
     "output_type": "stream",
     "text": [
      "Cross-validation mean score: -0.007405201406974565\n"
     ]
    },
    {
     "data": {
      "image/svg+xml": "<?xml version=\"1.0\" encoding=\"UTF-8\" standalone=\"no\"?>\n<!DOCTYPE svg PUBLIC \"-//W3C//DTD SVG 1.1//EN\"\n \"http://www.w3.org/Graphics/SVG/1.1/DTD/svg11.dtd\">\n<!-- Generated by graphviz version 2.40.1 (20161225.0304)\n -->\n<!-- Title: %3 Pages: 1 -->\n<svg width=\"204pt\" height=\"131pt\"\n viewBox=\"0.00 0.00 204.04 131.00\" xmlns=\"http://www.w3.org/2000/svg\" xmlns:xlink=\"http://www.w3.org/1999/xlink\">\n<g id=\"graph0\" class=\"graph\" transform=\"scale(1 1) rotate(0) translate(4 127)\">\n<title>%3</title>\n<polygon fill=\"#ffffff\" stroke=\"transparent\" points=\"-4,4 -4,-127 200.0421,-127 200.0421,4 -4,4\"/>\n<!-- 0 -->\n<g id=\"node1\" class=\"node\">\n<title>0</title>\n<ellipse fill=\"#d3d3d3\" stroke=\"#000000\" cx=\"51.9954\" cy=\"-18\" rx=\"51.9908\" ry=\"18\"/>\n<text text-anchor=\"middle\" x=\"51.9954\" y=\"-14.3\" font-family=\"Times,serif\" font-size=\"14.00\" fill=\"#000000\">&#45;0.01015</text>\n</g>\n<!-- 1 -->\n<g id=\"node2\" class=\"node\">\n<title>1</title>\n<ellipse fill=\"#d3d3d3\" stroke=\"#000000\" cx=\"158.9954\" cy=\"-18\" rx=\"37.0935\" ry=\"18\"/>\n<text text-anchor=\"middle\" x=\"158.9954\" y=\"-14.3\" font-family=\"Times,serif\" font-size=\"14.00\" fill=\"#000000\">0.965</text>\n</g>\n<!-- 2 -->\n<g id=\"node3\" class=\"node\">\n<title>2</title>\n<path fill=\"#ffff00\" stroke=\"#000000\" d=\"M149.4954,-123C149.4954,-123 60.4954,-123 60.4954,-123 54.4954,-123 48.4954,-117 48.4954,-111 48.4954,-111 48.4954,-99 48.4954,-99 48.4954,-93 54.4954,-87 60.4954,-87 60.4954,-87 149.4954,-87 149.4954,-87 155.4954,-87 161.4954,-93 161.4954,-99 161.4954,-99 161.4954,-111 161.4954,-111 161.4954,-117 155.4954,-123 149.4954,-123\"/>\n<text text-anchor=\"middle\" x=\"104.9954\" y=\"-101.3\" font-family=\"Times,serif\" font-size=\"14.00\" fill=\"#000000\">F0 &gt; 0.9871?</text>\n</g>\n<!-- 2&#45;&gt;0 -->\n<g id=\"edge1\" class=\"edge\">\n<title>2&#45;&gt;0</title>\n<path fill=\"none\" stroke=\"#000000\" d=\"M94.0138,-86.9735C86.5024,-74.6435 76.4226,-58.0975 68.0185,-44.3021\"/>\n<polygon fill=\"#000000\" stroke=\"#000000\" points=\"70.9733,-42.4249 62.7816,-35.7057 64.9952,-46.0667 70.9733,-42.4249\"/>\n<text text-anchor=\"middle\" x=\"100.9954\" y=\"-57.8\" font-family=\"Times,serif\" font-size=\"14.00\" fill=\"#000000\">False</text>\n</g>\n<!-- 2&#45;&gt;1 -->\n<g id=\"edge2\" class=\"edge\">\n<title>2&#45;&gt;1</title>\n<path fill=\"none\" stroke=\"#000000\" d=\"M116.1842,-86.9735C123.888,-74.5619 134.2434,-57.8782 142.8398,-44.0284\"/>\n<polygon fill=\"#000000\" stroke=\"#000000\" points=\"145.8894,-45.7519 148.1894,-35.4097 139.9419,-42.0603 145.8894,-45.7519\"/>\n<text text-anchor=\"middle\" x=\"151.9954\" y=\"-57.8\" font-family=\"Times,serif\" font-size=\"14.00\" fill=\"#000000\">True</text>\n</g>\n</g>\n</svg>\n",
      "text/plain": [
       "<graphviz.graphs.Digraph at 0x7fbe3b739c90>"
      ]
     },
     "execution_count": 4,
     "metadata": {},
     "output_type": "execute_result"
    }
   ],
   "source": [
    "def make_some_data(n):\n",
    "    x = np.random.uniform(-5, 5, size=n)\n",
    "    Y = (x > 1) + 0.1*np.random.normal(size=n)\n",
    "    X = x.reshape(n, 1) # X needs to be a 2-dimensional matrix\n",
    "    return X, Y\n",
    "\n",
    "n = 100\n",
    "X,Y = make_some_data(n)\n",
    "\n",
    "Xtrain, Xtest, Ytrain, Ytest = train_test_split(X, Y, test_size=0.2, random_state=0)\n",
    "\n",
    "reg = TreeRegressor(max_depth=2, threshold=0.1)\n",
    "score = cross_validate(reg, Xtrain, Ytrain, scoring='neg_mean_squared_error')\n",
    "print(\"Cross-validation mean score:\", np.mean(score['test_score']))\n",
    "\n",
    "reg.fit(Xtrain,Ytrain)\n",
    "\n",
    "reg.draw_tree()"
   ]
  },
  {
   "cell_type": "markdown",
   "metadata": {
    "cell_id": "6e2b459f-49b4-4b59-9c74-1a9cf15ca926",
    "deepnote_cell_type": "markdown",
    "tags": []
   },
   "source": [
    "By looking at the data-generating function it is reasonable to assume that we want to have a decision tree of depth one, only creating two leaf nodes. This is because we have two main clusters, where each cluster varies over similar values. If we would increase the max_depth and decrease the threshold we may overfit the data.\n",
    "\n",
    "From the tree drawing above we can see that the result makes sense. The x-value splitting the two clusters is approximately 1. Further, the mean value for the lower cluster is close to 0 and for the upper cluster it is close to 1.\n",
    "\n",
    "The code block below shows the accuracy on the test set, after predicting with TreeRegressor."
   ]
  },
  {
   "cell_type": "code",
   "execution_count": null,
   "metadata": {
    "cell_id": "3d76d1bf-0612-4238-b55a-f852e8ba8685",
    "deepnote_cell_type": "code",
    "deepnote_to_be_reexecuted": false,
    "execution_millis": 3,
    "execution_start": 1642763423329,
    "source_hash": "1cd04ca0",
    "tags": []
   },
   "outputs": [
    {
     "name": "stdout",
     "output_type": "stream",
     "text": [
      "Accuracy on test-set: 0.01010194969752579\n"
     ]
    }
   ],
   "source": [
    "Ypredict = reg.predict(Xtest)\n",
    "print(\"Accuracy on test-set:\", mean_squared_error(Ytest, Ypredict))"
   ]
  },
  {
   "cell_type": "markdown",
   "metadata": {
    "cell_id": "6cf71897-4e3b-4262-9bff-ca9160e5ea1f",
    "deepnote_cell_type": "markdown",
    "tags": []
   },
   "source": [
    "## Step 3: Predicting apartment prices using decision tree regression"
   ]
  },
  {
   "cell_type": "code",
   "execution_count": null,
   "metadata": {
    "cell_id": "1ca4230c-2835-4ac8-89e8-d6a2510ee2d3",
    "deepnote_cell_type": "code",
    "deepnote_output_heights": [
     null,
     611
    ],
    "deepnote_table_loading": false,
    "deepnote_table_state": {
     "filters": [],
     "pageIndex": 2,
     "pageSize": 10,
     "sortBy": []
    },
    "deepnote_to_be_reexecuted": false,
    "execution_millis": 15854,
    "execution_start": 1642763423332,
    "source_hash": "b4c1aa27",
    "tags": []
   },
   "outputs": [
    {
     "name": "stdout",
     "output_type": "stream",
     "text": [
      "0.0001 -0.2825632020742467\n",
      "0.001 -0.2825632020742467\n",
      "0.01 -0.2825632020742467\n",
      "0.1 -0.28269328255271664\n",
      "1 -0.38925247260237567\n",
      "10 -0.38925247260237567\n"
     ]
    }
   ],
   "source": [
    "# Read the CSV file using Pandas.\n",
    "alldata = pd.read_csv('sberbank.csv')\n",
    "\n",
    "# Convert the timestamp string to an integer representing the year.\n",
    "def get_year(timestamp):\n",
    "    return int(timestamp[:4])\n",
    "alldata['year'] = alldata.timestamp.apply(get_year)\n",
    "\n",
    "# Select the 9 input columns and the output column.\n",
    "selected_columns = ['price_doc', 'year', 'full_sq', 'life_sq', 'floor', 'num_room', 'kitch_sq', 'full_all']\n",
    "alldata = alldata[selected_columns]\n",
    "alldata = alldata.dropna()\n",
    "\n",
    "# Shuffle.\n",
    "alldata_shuffled = alldata.sample(frac=1.0, random_state=0)\n",
    "\n",
    "# Separate the input and output columns.\n",
    "X = alldata_shuffled.drop('price_doc', axis=1)\n",
    "# For the output, we'll use the log of the sales price.\n",
    "Y = alldata_shuffled['price_doc'].apply(np.log)\n",
    "\n",
    "# Split into training and test sets.\n",
    "Xtrain, Xtest, Ytrain, Ytest = train_test_split(X, Y, test_size=0.2, random_state=0)\n",
    "\n",
    "# Testing which threshold to use\n",
    "thresholds = [0.0001,0.001,0.01,0.1,1,10]\n",
    "for threshold in thresholds:\n",
    "    reg = TreeRegressor(max_depth=5, threshold=threshold)\n",
    "    score = cross_validate(reg, Xtrain, Ytrain, scoring='neg_mean_squared_error')\n",
    "    print(threshold, np.mean(score['test_score']))"
   ]
  },
  {
   "cell_type": "markdown",
   "metadata": {
    "cell_id": "2cc83bdb-4e1c-4f7d-a535-c511d96182f7",
    "deepnote_cell_type": "markdown",
    "tags": []
   },
   "source": [
    "In above code we tested out 5 different thresholds with *max_depth = 5*. We found that *threshold <= 0.01* gave best negative mean squared error.  "
   ]
  },
  {
   "cell_type": "code",
   "execution_count": null,
   "metadata": {
    "cell_id": "77d2b694-1549-4ff6-be6c-8673a8185968",
    "deepnote_cell_type": "code",
    "deepnote_output_heights": [
     null,
     611
    ],
    "deepnote_to_be_reexecuted": false,
    "execution_millis": 1018,
    "execution_start": 1642763439189,
    "source_hash": "4c40eef6",
    "tags": []
   },
   "outputs": [
    {
     "name": "stdout",
     "output_type": "stream",
     "text": [
      "Prediction accuracy: 0.2908115453881927\n"
     ]
    },
    {
     "data": {
      "image/svg+xml": "<?xml version=\"1.0\" encoding=\"UTF-8\" standalone=\"no\"?>\n<!DOCTYPE svg PUBLIC \"-//W3C//DTD SVG 1.1//EN\"\n \"http://www.w3.org/Graphics/SVG/1.1/DTD/svg11.dtd\">\n<!-- Generated by graphviz version 2.40.1 (20161225.0304)\n -->\n<!-- Title: %3 Pages: 1 -->\n<svg width=\"2910pt\" height=\"479pt\"\n viewBox=\"0.00 0.00 2910.09 479.00\" xmlns=\"http://www.w3.org/2000/svg\" xmlns:xlink=\"http://www.w3.org/1999/xlink\">\n<g id=\"graph0\" class=\"graph\" transform=\"scale(1 1) rotate(0) translate(4 475)\">\n<title>%3</title>\n<polygon fill=\"#ffffff\" stroke=\"transparent\" points=\"-4,4 -4,-475 2906.0934,-475 2906.0934,4 -4,4\"/>\n<!-- 0 -->\n<g id=\"node1\" class=\"node\">\n<title>0</title>\n<ellipse fill=\"#d3d3d3\" stroke=\"#000000\" cx=\"37.0467\" cy=\"-18\" rx=\"37.0935\" ry=\"18\"/>\n<text text-anchor=\"middle\" x=\"37.0467\" y=\"-14.3\" font-family=\"Times,serif\" font-size=\"14.00\" fill=\"#000000\">14.96</text>\n</g>\n<!-- 1 -->\n<g id=\"node2\" class=\"node\">\n<title>1</title>\n<ellipse fill=\"#d3d3d3\" stroke=\"#000000\" cx=\"123.0467\" cy=\"-18\" rx=\"31.3957\" ry=\"18\"/>\n<text text-anchor=\"middle\" x=\"123.0467\" y=\"-14.3\" font-family=\"Times,serif\" font-size=\"14.00\" fill=\"#000000\">14.6</text>\n</g>\n<!-- 2 -->\n<g id=\"node3\" class=\"node\">\n<title>2</title>\n<path fill=\"#ffff00\" stroke=\"#000000\" d=\"M166.0467,-123C166.0467,-123 80.0467,-123 80.0467,-123 74.0467,-123 68.0467,-117 68.0467,-111 68.0467,-111 68.0467,-99 68.0467,-99 68.0467,-93 74.0467,-87 80.0467,-87 80.0467,-87 166.0467,-87 166.0467,-87 172.0467,-87 178.0467,-93 178.0467,-99 178.0467,-99 178.0467,-111 178.0467,-111 178.0467,-117 172.0467,-123 166.0467,-123\"/>\n<text text-anchor=\"middle\" x=\"123.0467\" y=\"-101.3\" font-family=\"Times,serif\" font-size=\"14.00\" fill=\"#000000\">life_sq &gt; 23?</text>\n</g>\n<!-- 2&#45;&gt;0 -->\n<g id=\"edge1\" class=\"edge\">\n<title>2&#45;&gt;0</title>\n<path fill=\"none\" stroke=\"#000000\" d=\"M100.6917,-86.9169C94.1767,-81.3629 87.1683,-75.1019 81.0467,-69 72.8875,-60.867 64.492,-51.4409 57.2504,-42.9214\"/>\n<polygon fill=\"#000000\" stroke=\"#000000\" points=\"59.8087,-40.5248 50.7064,-35.1028 54.4408,-45.0177 59.8087,-40.5248\"/>\n<text text-anchor=\"middle\" x=\"100.0467\" y=\"-57.8\" font-family=\"Times,serif\" font-size=\"14.00\" fill=\"#000000\">False</text>\n</g>\n<!-- 2&#45;&gt;1 -->\n<g id=\"edge2\" class=\"edge\">\n<title>2&#45;&gt;1</title>\n<path fill=\"none\" stroke=\"#000000\" d=\"M123.0467,-86.9735C123.0467,-75.1918 123.0467,-59.5607 123.0467,-46.1581\"/>\n<polygon fill=\"#000000\" stroke=\"#000000\" points=\"126.5468,-46.0033 123.0467,-36.0034 119.5468,-46.0034 126.5468,-46.0033\"/>\n<text text-anchor=\"middle\" x=\"140.0467\" y=\"-57.8\" font-family=\"Times,serif\" font-size=\"14.00\" fill=\"#000000\">True</text>\n</g>\n<!-- 3 -->\n<g id=\"node4\" class=\"node\">\n<title>3</title>\n<ellipse fill=\"#d3d3d3\" stroke=\"#000000\" cx=\"209.0467\" cy=\"-18\" rx=\"37.0935\" ry=\"18\"/>\n<text text-anchor=\"middle\" x=\"209.0467\" y=\"-14.3\" font-family=\"Times,serif\" font-size=\"14.00\" fill=\"#000000\">15.08</text>\n</g>\n<!-- 4 -->\n<g id=\"node5\" class=\"node\">\n<title>4</title>\n<ellipse fill=\"#d3d3d3\" stroke=\"#000000\" cx=\"301.0467\" cy=\"-18\" rx=\"37.0935\" ry=\"18\"/>\n<text text-anchor=\"middle\" x=\"301.0467\" y=\"-14.3\" font-family=\"Times,serif\" font-size=\"14.00\" fill=\"#000000\">15.35</text>\n</g>\n<!-- 5 -->\n<g id=\"node6\" class=\"node\">\n<title>5</title>\n<path fill=\"#ffff00\" stroke=\"#000000\" d=\"M332.0467,-123C332.0467,-123 228.0467,-123 228.0467,-123 222.0467,-123 216.0467,-117 216.0467,-111 216.0467,-111 216.0467,-99 216.0467,-99 216.0467,-93 222.0467,-87 228.0467,-87 228.0467,-87 332.0467,-87 332.0467,-87 338.0467,-87 344.0467,-93 344.0467,-99 344.0467,-99 344.0467,-111 344.0467,-111 344.0467,-117 338.0467,-123 332.0467,-123\"/>\n<text text-anchor=\"middle\" x=\"280.0467\" y=\"-101.3\" font-family=\"Times,serif\" font-size=\"14.00\" fill=\"#000000\">kitch_sq &gt; 3.5?</text>\n</g>\n<!-- 5&#45;&gt;3 -->\n<g id=\"edge3\" class=\"edge\">\n<title>5&#45;&gt;3</title>\n<path fill=\"none\" stroke=\"#000000\" d=\"M263.5021,-86.9132C258.4519,-81.2532 252.9422,-74.9346 248.0467,-69 241.3085,-60.8316 234.2006,-51.7024 227.9253,-43.4504\"/>\n<polygon fill=\"#000000\" stroke=\"#000000\" points=\"230.5532,-41.1222 221.7376,-35.2456 224.9644,-45.3371 230.5532,-41.1222\"/>\n<text text-anchor=\"middle\" x=\"267.0467\" y=\"-57.8\" font-family=\"Times,serif\" font-size=\"14.00\" fill=\"#000000\">False</text>\n</g>\n<!-- 5&#45;&gt;4 -->\n<g id=\"edge4\" class=\"edge\">\n<title>5&#45;&gt;4</title>\n<path fill=\"none\" stroke=\"#000000\" d=\"M284.3979,-86.9735C287.27,-75.0751 291.0896,-59.2508 294.3459,-45.7606\"/>\n<polygon fill=\"#000000\" stroke=\"#000000\" points=\"297.7569,-46.5455 296.7011,-36.0034 290.9523,-44.9029 297.7569,-46.5455\"/>\n<text text-anchor=\"middle\" x=\"309.0467\" y=\"-57.8\" font-family=\"Times,serif\" font-size=\"14.00\" fill=\"#000000\">True</text>\n</g>\n<!-- 6 -->\n<g id=\"node7\" class=\"node\">\n<title>6</title>\n<path fill=\"#ffff00\" stroke=\"#000000\" d=\"M332.5467,-210C332.5467,-210 227.5467,-210 227.5467,-210 221.5467,-210 215.5467,-204 215.5467,-198 215.5467,-198 215.5467,-186 215.5467,-186 215.5467,-180 221.5467,-174 227.5467,-174 227.5467,-174 332.5467,-174 332.5467,-174 338.5467,-174 344.5467,-180 344.5467,-186 344.5467,-186 344.5467,-198 344.5467,-198 344.5467,-204 338.5467,-210 332.5467,-210\"/>\n<text text-anchor=\"middle\" x=\"280.0467\" y=\"-188.3\" font-family=\"Times,serif\" font-size=\"14.00\" fill=\"#000000\">full_all &gt; 8968?</text>\n</g>\n<!-- 6&#45;&gt;2 -->\n<g id=\"edge5\" class=\"edge\">\n<title>6&#45;&gt;2</title>\n<path fill=\"none\" stroke=\"#000000\" d=\"M247.5162,-173.9735C223.413,-160.617 190.3821,-142.3133 164.404,-127.9177\"/>\n<polygon fill=\"#000000\" stroke=\"#000000\" points=\"165.9788,-124.789 155.5355,-123.0034 162.5859,-130.9118 165.9788,-124.789\"/>\n<text text-anchor=\"middle\" x=\"230.0467\" y=\"-144.8\" font-family=\"Times,serif\" font-size=\"14.00\" fill=\"#000000\">False</text>\n</g>\n<!-- 6&#45;&gt;5 -->\n<g id=\"edge6\" class=\"edge\">\n<title>6&#45;&gt;5</title>\n<path fill=\"none\" stroke=\"#000000\" d=\"M280.0467,-173.9735C280.0467,-162.1918 280.0467,-146.5607 280.0467,-133.1581\"/>\n<polygon fill=\"#000000\" stroke=\"#000000\" points=\"283.5468,-133.0033 280.0467,-123.0034 276.5468,-133.0034 283.5468,-133.0033\"/>\n<text text-anchor=\"middle\" x=\"297.0467\" y=\"-144.8\" font-family=\"Times,serif\" font-size=\"14.00\" fill=\"#000000\">True</text>\n</g>\n<!-- 7 -->\n<g id=\"node8\" class=\"node\">\n<title>7</title>\n<ellipse fill=\"#d3d3d3\" stroke=\"#000000\" cx=\"393.0467\" cy=\"-18\" rx=\"37.0935\" ry=\"18\"/>\n<text text-anchor=\"middle\" x=\"393.0467\" y=\"-14.3\" font-family=\"Times,serif\" font-size=\"14.00\" fill=\"#000000\">15.17</text>\n</g>\n<!-- 8 -->\n<g id=\"node9\" class=\"node\">\n<title>8</title>\n<ellipse fill=\"#d3d3d3\" stroke=\"#000000\" cx=\"485.0467\" cy=\"-18\" rx=\"37.0935\" ry=\"18\"/>\n<text text-anchor=\"middle\" x=\"485.0467\" y=\"-14.3\" font-family=\"Times,serif\" font-size=\"14.00\" fill=\"#000000\">15.38</text>\n</g>\n<!-- 9 -->\n<g id=\"node10\" class=\"node\">\n<title>9</title>\n<path fill=\"#ffff00\" stroke=\"#000000\" d=\"M508.5467,-123C508.5467,-123 403.5467,-123 403.5467,-123 397.5467,-123 391.5467,-117 391.5467,-111 391.5467,-111 391.5467,-99 391.5467,-99 391.5467,-93 397.5467,-87 403.5467,-87 403.5467,-87 508.5467,-87 508.5467,-87 514.5467,-87 520.5467,-93 520.5467,-99 520.5467,-99 520.5467,-111 520.5467,-111 520.5467,-117 514.5467,-123 508.5467,-123\"/>\n<text text-anchor=\"middle\" x=\"456.0467\" y=\"-101.3\" font-family=\"Times,serif\" font-size=\"14.00\" fill=\"#000000\">full_all &gt; 8968?</text>\n</g>\n<!-- 9&#45;&gt;7 -->\n<g id=\"edge7\" class=\"edge\">\n<title>9&#45;&gt;7</title>\n<path fill=\"none\" stroke=\"#000000\" d=\"M440.969,-86.9356C436.3889,-81.2764 431.415,-74.9528 427.0467,-69 421.1288,-60.9355 414.9728,-51.9172 409.5514,-43.7328\"/>\n<polygon fill=\"#000000\" stroke=\"#000000\" points=\"412.4108,-41.7105 404.0029,-35.2639 406.5555,-45.5466 412.4108,-41.7105\"/>\n<text text-anchor=\"middle\" x=\"446.0467\" y=\"-57.8\" font-family=\"Times,serif\" font-size=\"14.00\" fill=\"#000000\">False</text>\n</g>\n<!-- 9&#45;&gt;8 -->\n<g id=\"edge8\" class=\"edge\">\n<title>9&#45;&gt;8</title>\n<path fill=\"none\" stroke=\"#000000\" d=\"M462.0555,-86.9735C466.0217,-75.0751 471.2965,-59.2508 475.7932,-45.7606\"/>\n<polygon fill=\"#000000\" stroke=\"#000000\" points=\"479.2036,-46.597 479.0456,-36.0034 472.5629,-44.3834 479.2036,-46.597\"/>\n<text text-anchor=\"middle\" x=\"490.0467\" y=\"-57.8\" font-family=\"Times,serif\" font-size=\"14.00\" fill=\"#000000\">True</text>\n</g>\n<!-- 10 -->\n<g id=\"node11\" class=\"node\">\n<title>10</title>\n<ellipse fill=\"#d3d3d3\" stroke=\"#000000\" cx=\"577.0467\" cy=\"-18\" rx=\"37.0935\" ry=\"18\"/>\n<text text-anchor=\"middle\" x=\"577.0467\" y=\"-14.3\" font-family=\"Times,serif\" font-size=\"14.00\" fill=\"#000000\">15.55</text>\n</g>\n<!-- 11 -->\n<g id=\"node12\" class=\"node\">\n<title>11</title>\n<ellipse fill=\"#d3d3d3\" stroke=\"#000000\" cx=\"669.0467\" cy=\"-18\" rx=\"37.0935\" ry=\"18\"/>\n<text text-anchor=\"middle\" x=\"669.0467\" y=\"-14.3\" font-family=\"Times,serif\" font-size=\"14.00\" fill=\"#000000\">15.38</text>\n</g>\n<!-- 12 -->\n<g id=\"node13\" class=\"node\">\n<title>12</title>\n<path fill=\"#ffff00\" stroke=\"#000000\" d=\"M689.5467,-123C689.5467,-123 550.5467,-123 550.5467,-123 544.5467,-123 538.5467,-117 538.5467,-111 538.5467,-111 538.5467,-99 538.5467,-99 538.5467,-93 544.5467,-87 550.5467,-87 550.5467,-87 689.5467,-87 689.5467,-87 695.5467,-87 701.5467,-93 701.5467,-99 701.5467,-99 701.5467,-111 701.5467,-111 701.5467,-117 695.5467,-123 689.5467,-123\"/>\n<text text-anchor=\"middle\" x=\"620.0467\" y=\"-101.3\" font-family=\"Times,serif\" font-size=\"14.00\" fill=\"#000000\">full_all &gt; 1.99e+05?</text>\n</g>\n<!-- 12&#45;&gt;10 -->\n<g id=\"edge9\" class=\"edge\">\n<title>12&#45;&gt;10</title>\n<path fill=\"none\" stroke=\"#000000\" d=\"M611.1371,-86.9735C605.101,-74.7609 597.0206,-58.4123 590.2418,-44.697\"/>\n<polygon fill=\"#000000\" stroke=\"#000000\" points=\"593.3664,-43.1197 585.7978,-35.7057 587.0911,-46.2213 593.3664,-43.1197\"/>\n<text text-anchor=\"middle\" x=\"621.0467\" y=\"-57.8\" font-family=\"Times,serif\" font-size=\"14.00\" fill=\"#000000\">False</text>\n</g>\n<!-- 12&#45;&gt;11 -->\n<g id=\"edge10\" class=\"edge\">\n<title>12&#45;&gt;11</title>\n<path fill=\"none\" stroke=\"#000000\" d=\"M632.7341,-86.9822C636.5331,-81.325 640.6016,-74.9907 644.0467,-69 648.4502,-61.3428 652.8329,-52.7999 656.6704,-44.9286\"/>\n<polygon fill=\"#000000\" stroke=\"#000000\" points=\"659.8952,-46.2975 661.0455,-35.7653 653.5783,-43.2814 659.8952,-46.2975\"/>\n<text text-anchor=\"middle\" x=\"669.0467\" y=\"-57.8\" font-family=\"Times,serif\" font-size=\"14.00\" fill=\"#000000\">True</text>\n</g>\n<!-- 13 -->\n<g id=\"node14\" class=\"node\">\n<title>13</title>\n<path fill=\"#ffff00\" stroke=\"#000000\" d=\"M624.0467,-210C624.0467,-210 476.0467,-210 476.0467,-210 470.0467,-210 464.0467,-204 464.0467,-198 464.0467,-198 464.0467,-186 464.0467,-186 464.0467,-180 470.0467,-174 476.0467,-174 476.0467,-174 624.0467,-174 624.0467,-174 630.0467,-174 636.0467,-180 636.0467,-186 636.0467,-186 636.0467,-198 636.0467,-198 636.0467,-204 630.0467,-210 624.0467,-210\"/>\n<text text-anchor=\"middle\" x=\"550.0467\" y=\"-188.3\" font-family=\"Times,serif\" font-size=\"14.00\" fill=\"#000000\">full_all &gt; 4.552e+04?</text>\n</g>\n<!-- 13&#45;&gt;9 -->\n<g id=\"edge11\" class=\"edge\">\n<title>13&#45;&gt;9</title>\n<path fill=\"none\" stroke=\"#000000\" d=\"M530.5699,-173.9735C516.8318,-161.2586 498.2498,-144.0603 483.0779,-130.0183\"/>\n<polygon fill=\"#000000\" stroke=\"#000000\" points=\"485.2151,-127.2272 475.4986,-123.0034 480.4603,-132.3646 485.2151,-127.2272\"/>\n<text text-anchor=\"middle\" x=\"528.0467\" y=\"-144.8\" font-family=\"Times,serif\" font-size=\"14.00\" fill=\"#000000\">False</text>\n</g>\n<!-- 13&#45;&gt;12 -->\n<g id=\"edge12\" class=\"edge\">\n<title>13&#45;&gt;12</title>\n<path fill=\"none\" stroke=\"#000000\" d=\"M564.5508,-173.9735C574.4996,-161.6085 587.8599,-145.0036 598.9786,-131.1847\"/>\n<polygon fill=\"#000000\" stroke=\"#000000\" points=\"602.0194,-132.9886 605.5612,-123.0034 596.5655,-128.6005 602.0194,-132.9886\"/>\n<text text-anchor=\"middle\" x=\"607.0467\" y=\"-144.8\" font-family=\"Times,serif\" font-size=\"14.00\" fill=\"#000000\">True</text>\n</g>\n<!-- 14 -->\n<g id=\"node15\" class=\"node\">\n<title>14</title>\n<path fill=\"#ffff00\" stroke=\"#000000\" d=\"M600.0467,-297C600.0467,-297 500.0467,-297 500.0467,-297 494.0467,-297 488.0467,-291 488.0467,-285 488.0467,-285 488.0467,-273 488.0467,-273 488.0467,-267 494.0467,-261 500.0467,-261 500.0467,-261 600.0467,-261 600.0467,-261 606.0467,-261 612.0467,-267 612.0467,-273 612.0467,-273 612.0467,-285 612.0467,-285 612.0467,-291 606.0467,-297 600.0467,-297\"/>\n<text text-anchor=\"middle\" x=\"550.0467\" y=\"-275.3\" font-family=\"Times,serif\" font-size=\"14.00\" fill=\"#000000\">full_sq &gt; 34.5?</text>\n</g>\n<!-- 14&#45;&gt;6 -->\n<g id=\"edge13\" class=\"edge\">\n<title>14&#45;&gt;6</title>\n<path fill=\"none\" stroke=\"#000000\" d=\"M494.1025,-260.9735C450.9316,-247.0629 391.107,-227.7861 345.6752,-213.147\"/>\n<polygon fill=\"#000000\" stroke=\"#000000\" points=\"346.5108,-209.739 335.9192,-210.0034 344.3639,-216.4017 346.5108,-209.739\"/>\n<text text-anchor=\"middle\" x=\"451.0467\" y=\"-231.8\" font-family=\"Times,serif\" font-size=\"14.00\" fill=\"#000000\">False</text>\n</g>\n<!-- 14&#45;&gt;13 -->\n<g id=\"edge14\" class=\"edge\">\n<title>14&#45;&gt;13</title>\n<path fill=\"none\" stroke=\"#000000\" d=\"M550.0467,-260.9735C550.0467,-249.1918 550.0467,-233.5607 550.0467,-220.1581\"/>\n<polygon fill=\"#000000\" stroke=\"#000000\" points=\"553.5468,-220.0033 550.0467,-210.0034 546.5468,-220.0034 553.5468,-220.0033\"/>\n<text text-anchor=\"middle\" x=\"567.0467\" y=\"-231.8\" font-family=\"Times,serif\" font-size=\"14.00\" fill=\"#000000\">True</text>\n</g>\n<!-- 15 -->\n<g id=\"node16\" class=\"node\">\n<title>15</title>\n<ellipse fill=\"#d3d3d3\" stroke=\"#000000\" cx=\"761.0467\" cy=\"-18\" rx=\"37.0935\" ry=\"18\"/>\n<text text-anchor=\"middle\" x=\"761.0467\" y=\"-14.3\" font-family=\"Times,serif\" font-size=\"14.00\" fill=\"#000000\">15.23</text>\n</g>\n<!-- 16 -->\n<g id=\"node17\" class=\"node\">\n<title>16</title>\n<ellipse fill=\"#d3d3d3\" stroke=\"#000000\" cx=\"853.0467\" cy=\"-18\" rx=\"37.0935\" ry=\"18\"/>\n<text text-anchor=\"middle\" x=\"853.0467\" y=\"-14.3\" font-family=\"Times,serif\" font-size=\"14.00\" fill=\"#000000\">15.51</text>\n</g>\n<!-- 17 -->\n<g id=\"node18\" class=\"node\">\n<title>17</title>\n<path fill=\"#ffff00\" stroke=\"#000000\" d=\"M884.5467,-123C884.5467,-123 779.5467,-123 779.5467,-123 773.5467,-123 767.5467,-117 767.5467,-111 767.5467,-111 767.5467,-99 767.5467,-99 767.5467,-93 773.5467,-87 779.5467,-87 779.5467,-87 884.5467,-87 884.5467,-87 890.5467,-87 896.5467,-93 896.5467,-99 896.5467,-99 896.5467,-111 896.5467,-111 896.5467,-117 890.5467,-123 884.5467,-123\"/>\n<text text-anchor=\"middle\" x=\"832.0467\" y=\"-101.3\" font-family=\"Times,serif\" font-size=\"14.00\" fill=\"#000000\">full_all &gt; 3232?</text>\n</g>\n<!-- 17&#45;&gt;15 -->\n<g id=\"edge15\" class=\"edge\">\n<title>17&#45;&gt;15</title>\n<path fill=\"none\" stroke=\"#000000\" d=\"M815.5021,-86.9132C810.4519,-81.2532 804.9422,-74.9346 800.0467,-69 793.3085,-60.8316 786.2006,-51.7024 779.9253,-43.4504\"/>\n<polygon fill=\"#000000\" stroke=\"#000000\" points=\"782.5532,-41.1222 773.7376,-35.2456 776.9644,-45.3371 782.5532,-41.1222\"/>\n<text text-anchor=\"middle\" x=\"819.0467\" y=\"-57.8\" font-family=\"Times,serif\" font-size=\"14.00\" fill=\"#000000\">False</text>\n</g>\n<!-- 17&#45;&gt;16 -->\n<g id=\"edge16\" class=\"edge\">\n<title>17&#45;&gt;16</title>\n<path fill=\"none\" stroke=\"#000000\" d=\"M836.3979,-86.9735C839.27,-75.0751 843.0896,-59.2508 846.3459,-45.7606\"/>\n<polygon fill=\"#000000\" stroke=\"#000000\" points=\"849.7569,-46.5455 848.7011,-36.0034 842.9523,-44.9029 849.7569,-46.5455\"/>\n<text text-anchor=\"middle\" x=\"861.0467\" y=\"-57.8\" font-family=\"Times,serif\" font-size=\"14.00\" fill=\"#000000\">True</text>\n</g>\n<!-- 18 -->\n<g id=\"node19\" class=\"node\">\n<title>18</title>\n<ellipse fill=\"#d3d3d3\" stroke=\"#000000\" cx=\"945.0467\" cy=\"-18\" rx=\"37.0935\" ry=\"18\"/>\n<text text-anchor=\"middle\" x=\"945.0467\" y=\"-14.3\" font-family=\"Times,serif\" font-size=\"14.00\" fill=\"#000000\">14.83</text>\n</g>\n<!-- 19 -->\n<g id=\"node20\" class=\"node\">\n<title>19</title>\n<ellipse fill=\"#d3d3d3\" stroke=\"#000000\" cx=\"1037.0467\" cy=\"-18\" rx=\"37.0935\" ry=\"18\"/>\n<text text-anchor=\"middle\" x=\"1037.0467\" y=\"-14.3\" font-family=\"Times,serif\" font-size=\"14.00\" fill=\"#000000\">15.16</text>\n</g>\n<!-- 20 -->\n<g id=\"node21\" class=\"node\">\n<title>20</title>\n<path fill=\"#ffff00\" stroke=\"#000000\" d=\"M1027.0467,-123C1027.0467,-123 927.0467,-123 927.0467,-123 921.0467,-123 915.0467,-117 915.0467,-111 915.0467,-111 915.0467,-99 915.0467,-99 915.0467,-93 921.0467,-87 927.0467,-87 927.0467,-87 1027.0467,-87 1027.0467,-87 1033.0467,-87 1039.0467,-93 1039.0467,-99 1039.0467,-99 1039.0467,-111 1039.0467,-111 1039.0467,-117 1033.0467,-123 1027.0467,-123\"/>\n<text text-anchor=\"middle\" x=\"977.0467\" y=\"-101.3\" font-family=\"Times,serif\" font-size=\"14.00\" fill=\"#000000\">full_sq &gt; 63.5?</text>\n</g>\n<!-- 20&#45;&gt;18 -->\n<g id=\"edge17\" class=\"edge\">\n<title>20&#45;&gt;18</title>\n<path fill=\"none\" stroke=\"#000000\" d=\"M970.4163,-86.9735C966.0399,-75.0751 960.2194,-59.2508 955.2575,-45.7606\"/>\n<polygon fill=\"#000000\" stroke=\"#000000\" points=\"958.4056,-44.1804 951.6686,-36.0034 951.8359,-46.5969 958.4056,-44.1804\"/>\n<text text-anchor=\"middle\" x=\"982.0467\" y=\"-57.8\" font-family=\"Times,serif\" font-size=\"14.00\" fill=\"#000000\">False</text>\n</g>\n<!-- 20&#45;&gt;19 -->\n<g id=\"edge18\" class=\"edge\">\n<title>20&#45;&gt;19</title>\n<path fill=\"none\" stroke=\"#000000\" d=\"M991.6542,-86.954C996.0784,-81.2956 1000.8695,-74.9678 1005.0467,-69 1010.5341,-61.1605 1016.189,-52.4059 1021.19,-44.3933\"/>\n<polygon fill=\"#000000\" stroke=\"#000000\" points=\"1024.2493,-46.1002 1026.5145,-35.7503 1018.2894,-42.4286 1024.2493,-46.1002\"/>\n<text text-anchor=\"middle\" x=\"1032.0467\" y=\"-57.8\" font-family=\"Times,serif\" font-size=\"14.00\" fill=\"#000000\">True</text>\n</g>\n<!-- 21 -->\n<g id=\"node22\" class=\"node\">\n<title>21</title>\n<path fill=\"#ffff00\" stroke=\"#000000\" d=\"M1027.5467,-210C1027.5467,-210 922.5467,-210 922.5467,-210 916.5467,-210 910.5467,-204 910.5467,-198 910.5467,-198 910.5467,-186 910.5467,-186 910.5467,-180 916.5467,-174 922.5467,-174 922.5467,-174 1027.5467,-174 1027.5467,-174 1033.5467,-174 1039.5467,-180 1039.5467,-186 1039.5467,-186 1039.5467,-198 1039.5467,-198 1039.5467,-204 1033.5467,-210 1027.5467,-210\"/>\n<text text-anchor=\"middle\" x=\"975.0467\" y=\"-188.3\" font-family=\"Times,serif\" font-size=\"14.00\" fill=\"#000000\">full_all &gt; 7440?</text>\n</g>\n<!-- 21&#45;&gt;17 -->\n<g id=\"edge19\" class=\"edge\">\n<title>21&#45;&gt;17</title>\n<path fill=\"none\" stroke=\"#000000\" d=\"M945.417,-173.9735C923.6549,-160.7336 893.9026,-142.6326 870.3375,-128.2958\"/>\n<polygon fill=\"#000000\" stroke=\"#000000\" points=\"872.0008,-125.2109 861.6384,-123.0034 868.3624,-131.1911 872.0008,-125.2109\"/>\n<text text-anchor=\"middle\" x=\"932.0467\" y=\"-144.8\" font-family=\"Times,serif\" font-size=\"14.00\" fill=\"#000000\">False</text>\n</g>\n<!-- 21&#45;&gt;20 -->\n<g id=\"edge20\" class=\"edge\">\n<title>21&#45;&gt;20</title>\n<path fill=\"none\" stroke=\"#000000\" d=\"M975.4611,-173.9735C975.732,-162.1918 976.0913,-146.5607 976.3994,-133.1581\"/>\n<polygon fill=\"#000000\" stroke=\"#000000\" points=\"979.902,-133.0812 976.6328,-123.0034 972.9038,-132.9202 979.902,-133.0812\"/>\n<text text-anchor=\"middle\" x=\"994.0467\" y=\"-144.8\" font-family=\"Times,serif\" font-size=\"14.00\" fill=\"#000000\">True</text>\n</g>\n<!-- 22 -->\n<g id=\"node23\" class=\"node\">\n<title>22</title>\n<ellipse fill=\"#d3d3d3\" stroke=\"#000000\" cx=\"1123.0467\" cy=\"-18\" rx=\"31.3957\" ry=\"18\"/>\n<text text-anchor=\"middle\" x=\"1123.0467\" y=\"-14.3\" font-family=\"Times,serif\" font-size=\"14.00\" fill=\"#000000\">15.7</text>\n</g>\n<!-- 23 -->\n<g id=\"node24\" class=\"node\">\n<title>23</title>\n<ellipse fill=\"#d3d3d3\" stroke=\"#000000\" cx=\"1209.0467\" cy=\"-18\" rx=\"37.0935\" ry=\"18\"/>\n<text text-anchor=\"middle\" x=\"1209.0467\" y=\"-14.3\" font-family=\"Times,serif\" font-size=\"14.00\" fill=\"#000000\">15.37</text>\n</g>\n<!-- 24 -->\n<g id=\"node25\" class=\"node\">\n<title>24</title>\n<path fill=\"#ffff00\" stroke=\"#000000\" d=\"M1218.0467,-123C1218.0467,-123 1070.0467,-123 1070.0467,-123 1064.0467,-123 1058.0467,-117 1058.0467,-111 1058.0467,-111 1058.0467,-99 1058.0467,-99 1058.0467,-93 1064.0467,-87 1070.0467,-87 1070.0467,-87 1218.0467,-87 1218.0467,-87 1224.0467,-87 1230.0467,-93 1230.0467,-99 1230.0467,-99 1230.0467,-111 1230.0467,-111 1230.0467,-117 1224.0467,-123 1218.0467,-123\"/>\n<text text-anchor=\"middle\" x=\"1144.0467\" y=\"-101.3\" font-family=\"Times,serif\" font-size=\"14.00\" fill=\"#000000\">full_all &gt; 3.765e+04?</text>\n</g>\n<!-- 24&#45;&gt;22 -->\n<g id=\"edge21\" class=\"edge\">\n<title>24&#45;&gt;22</title>\n<path fill=\"none\" stroke=\"#000000\" d=\"M1139.6955,-86.9735C1136.8235,-75.0751 1133.0038,-59.2508 1129.7476,-45.7606\"/>\n<polygon fill=\"#000000\" stroke=\"#000000\" points=\"1133.1411,-44.9029 1127.3924,-36.0034 1126.3365,-46.5455 1133.1411,-44.9029\"/>\n<text text-anchor=\"middle\" x=\"1154.0467\" y=\"-57.8\" font-family=\"Times,serif\" font-size=\"14.00\" fill=\"#000000\">False</text>\n</g>\n<!-- 24&#45;&gt;23 -->\n<g id=\"edge22\" class=\"edge\">\n<title>24&#45;&gt;23</title>\n<path fill=\"none\" stroke=\"#000000\" d=\"M1161.8445,-86.8758C1166.97,-81.3206 1172.4217,-75.0693 1177.0467,-69 1182.9387,-61.268 1188.7729,-52.4231 1193.8138,-44.2944\"/>\n<polygon fill=\"#000000\" stroke=\"#000000\" points=\"1196.9421,-45.8853 1199.1288,-35.5186 1190.9546,-42.259 1196.9421,-45.8853\"/>\n<text text-anchor=\"middle\" x=\"1205.0467\" y=\"-57.8\" font-family=\"Times,serif\" font-size=\"14.00\" fill=\"#000000\">True</text>\n</g>\n<!-- 25 -->\n<g id=\"node26\" class=\"node\">\n<title>25</title>\n<ellipse fill=\"#d3d3d3\" stroke=\"#000000\" cx=\"1301.0467\" cy=\"-18\" rx=\"37.0935\" ry=\"18\"/>\n<text text-anchor=\"middle\" x=\"1301.0467\" y=\"-14.3\" font-family=\"Times,serif\" font-size=\"14.00\" fill=\"#000000\">15.91</text>\n</g>\n<!-- 26 -->\n<g id=\"node27\" class=\"node\">\n<title>26</title>\n<ellipse fill=\"#d3d3d3\" stroke=\"#000000\" cx=\"1393.0467\" cy=\"-18\" rx=\"37.0935\" ry=\"18\"/>\n<text text-anchor=\"middle\" x=\"1393.0467\" y=\"-14.3\" font-family=\"Times,serif\" font-size=\"14.00\" fill=\"#000000\">15.77</text>\n</g>\n<!-- 27 -->\n<g id=\"node28\" class=\"node\">\n<title>27</title>\n<path fill=\"#ffff00\" stroke=\"#000000\" d=\"M1408.0467,-123C1408.0467,-123 1260.0467,-123 1260.0467,-123 1254.0467,-123 1248.0467,-117 1248.0467,-111 1248.0467,-111 1248.0467,-99 1248.0467,-99 1248.0467,-93 1254.0467,-87 1260.0467,-87 1260.0467,-87 1408.0467,-87 1408.0467,-87 1414.0467,-87 1420.0467,-93 1420.0467,-99 1420.0467,-99 1420.0467,-111 1420.0467,-111 1420.0467,-117 1414.0467,-123 1408.0467,-123\"/>\n<text text-anchor=\"middle\" x=\"1334.0467\" y=\"-101.3\" font-family=\"Times,serif\" font-size=\"14.00\" fill=\"#000000\">full_all &gt; 7.815e+04?</text>\n</g>\n<!-- 27&#45;&gt;25 -->\n<g id=\"edge23\" class=\"edge\">\n<title>27&#45;&gt;25</title>\n<path fill=\"none\" stroke=\"#000000\" d=\"M1327.2091,-86.9735C1322.6213,-74.8784 1316.4946,-58.7263 1311.3235,-45.0934\"/>\n<polygon fill=\"#000000\" stroke=\"#000000\" points=\"1314.5818,-43.8144 1307.7627,-35.7057 1308.0368,-46.297 1314.5818,-43.8144\"/>\n<text text-anchor=\"middle\" x=\"1339.0467\" y=\"-57.8\" font-family=\"Times,serif\" font-size=\"14.00\" fill=\"#000000\">False</text>\n</g>\n<!-- 27&#45;&gt;26 -->\n<g id=\"edge24\" class=\"edge\">\n<title>27&#45;&gt;26</title>\n<path fill=\"none\" stroke=\"#000000\" d=\"M1348.7065,-86.9903C1353.1328,-81.3334 1357.912,-74.9973 1362.0467,-69 1367.4309,-61.1905 1372.9286,-52.4445 1377.7701,-44.4304\"/>\n<polygon fill=\"#000000\" stroke=\"#000000\" points=\"1380.8103,-46.1657 1382.9164,-35.7823 1374.7948,-42.586 1380.8103,-46.1657\"/>\n<text text-anchor=\"middle\" x=\"1389.0467\" y=\"-57.8\" font-family=\"Times,serif\" font-size=\"14.00\" fill=\"#000000\">True</text>\n</g>\n<!-- 28 -->\n<g id=\"node29\" class=\"node\">\n<title>28</title>\n<path fill=\"#ffff00\" stroke=\"#000000\" d=\"M1218.0467,-210C1218.0467,-210 1070.0467,-210 1070.0467,-210 1064.0467,-210 1058.0467,-204 1058.0467,-198 1058.0467,-198 1058.0467,-186 1058.0467,-186 1058.0467,-180 1064.0467,-174 1070.0467,-174 1070.0467,-174 1218.0467,-174 1218.0467,-174 1224.0467,-174 1230.0467,-180 1230.0467,-186 1230.0467,-186 1230.0467,-198 1230.0467,-198 1230.0467,-204 1224.0467,-210 1218.0467,-210\"/>\n<text text-anchor=\"middle\" x=\"1144.0467\" y=\"-188.3\" font-family=\"Times,serif\" font-size=\"14.00\" fill=\"#000000\">full_all &gt; 4.069e+04?</text>\n</g>\n<!-- 28&#45;&gt;24 -->\n<g id=\"edge25\" class=\"edge\">\n<title>28&#45;&gt;24</title>\n<path fill=\"none\" stroke=\"#000000\" d=\"M1144.0467,-173.9735C1144.0467,-162.1918 1144.0467,-146.5607 1144.0467,-133.1581\"/>\n<polygon fill=\"#000000\" stroke=\"#000000\" points=\"1147.5468,-133.0033 1144.0467,-123.0034 1140.5468,-133.0034 1147.5468,-133.0033\"/>\n<text text-anchor=\"middle\" x=\"1163.0467\" y=\"-144.8\" font-family=\"Times,serif\" font-size=\"14.00\" fill=\"#000000\">False</text>\n</g>\n<!-- 28&#45;&gt;27 -->\n<g id=\"edge26\" class=\"edge\">\n<title>28&#45;&gt;27</title>\n<path fill=\"none\" stroke=\"#000000\" d=\"M1183.4148,-173.9735C1213.0938,-160.3837 1253.9577,-141.6723 1285.636,-127.167\"/>\n<polygon fill=\"#000000\" stroke=\"#000000\" points=\"1287.094,-130.3489 1294.729,-123.0034 1284.1797,-123.9844 1287.094,-130.3489\"/>\n<text text-anchor=\"middle\" x=\"1268.0467\" y=\"-144.8\" font-family=\"Times,serif\" font-size=\"14.00\" fill=\"#000000\">True</text>\n</g>\n<!-- 29 -->\n<g id=\"node30\" class=\"node\">\n<title>29</title>\n<path fill=\"#ffff00\" stroke=\"#000000\" d=\"M1098.5467,-297C1098.5467,-297 993.5467,-297 993.5467,-297 987.5467,-297 981.5467,-291 981.5467,-285 981.5467,-285 981.5467,-273 981.5467,-273 981.5467,-267 987.5467,-261 993.5467,-261 993.5467,-261 1098.5467,-261 1098.5467,-261 1104.5467,-261 1110.5467,-267 1110.5467,-273 1110.5467,-273 1110.5467,-285 1110.5467,-285 1110.5467,-291 1104.5467,-297 1098.5467,-297\"/>\n<text text-anchor=\"middle\" x=\"1046.0467\" y=\"-275.3\" font-family=\"Times,serif\" font-size=\"14.00\" fill=\"#000000\">full_all &gt; 8968?</text>\n</g>\n<!-- 29&#45;&gt;21 -->\n<g id=\"edge27\" class=\"edge\">\n<title>29&#45;&gt;21</title>\n<path fill=\"none\" stroke=\"#000000\" d=\"M1031.3355,-260.9735C1021.1493,-248.4919 1007.4373,-231.6899 996.0973,-217.7944\"/>\n<polygon fill=\"#000000\" stroke=\"#000000\" points=\"998.7735,-215.5379 989.7391,-210.0034 993.3502,-219.9638 998.7735,-215.5379\"/>\n<text text-anchor=\"middle\" x=\"1034.0467\" y=\"-231.8\" font-family=\"Times,serif\" font-size=\"14.00\" fill=\"#000000\">False</text>\n</g>\n<!-- 29&#45;&gt;28 -->\n<g id=\"edge28\" class=\"edge\">\n<title>29&#45;&gt;28</title>\n<path fill=\"none\" stroke=\"#000000\" d=\"M1066.3524,-260.9735C1080.675,-248.2586 1100.0478,-231.0603 1115.8652,-217.0183\"/>\n<polygon fill=\"#000000\" stroke=\"#000000\" points=\"1118.6124,-219.2597 1123.7671,-210.0034 1113.9651,-214.0249 1118.6124,-219.2597\"/>\n<text text-anchor=\"middle\" x=\"1118.0467\" y=\"-231.8\" font-family=\"Times,serif\" font-size=\"14.00\" fill=\"#000000\">True</text>\n</g>\n<!-- 30 -->\n<g id=\"node31\" class=\"node\">\n<title>30</title>\n<path fill=\"#ffff00\" stroke=\"#000000\" d=\"M1096.0467,-384C1096.0467,-384 996.0467,-384 996.0467,-384 990.0467,-384 984.0467,-378 984.0467,-372 984.0467,-372 984.0467,-360 984.0467,-360 984.0467,-354 990.0467,-348 996.0467,-348 996.0467,-348 1096.0467,-348 1096.0467,-348 1102.0467,-348 1108.0467,-354 1108.0467,-360 1108.0467,-360 1108.0467,-372 1108.0467,-372 1108.0467,-378 1102.0467,-384 1096.0467,-384\"/>\n<text text-anchor=\"middle\" x=\"1046.0467\" y=\"-362.3\" font-family=\"Times,serif\" font-size=\"14.00\" fill=\"#000000\">full_sq &gt; 49.5?</text>\n</g>\n<!-- 30&#45;&gt;14 -->\n<g id=\"edge29\" class=\"edge\">\n<title>30&#45;&gt;14</title>\n<path fill=\"none\" stroke=\"#000000\" d=\"M983.9807,-355.1134C891.9693,-338.9743 719.7753,-308.7709 622.2465,-291.6641\"/>\n<polygon fill=\"#000000\" stroke=\"#000000\" points=\"622.6338,-288.1787 612.1795,-289.8983 621.4244,-295.0734 622.6338,-288.1787\"/>\n<text text-anchor=\"middle\" x=\"847.0467\" y=\"-318.8\" font-family=\"Times,serif\" font-size=\"14.00\" fill=\"#000000\">False</text>\n</g>\n<!-- 30&#45;&gt;29 -->\n<g id=\"edge30\" class=\"edge\">\n<title>30&#45;&gt;29</title>\n<path fill=\"none\" stroke=\"#000000\" d=\"M1046.0467,-347.9735C1046.0467,-336.1918 1046.0467,-320.5607 1046.0467,-307.1581\"/>\n<polygon fill=\"#000000\" stroke=\"#000000\" points=\"1049.5468,-307.0033 1046.0467,-297.0034 1042.5468,-307.0034 1049.5468,-307.0033\"/>\n<text text-anchor=\"middle\" x=\"1063.0467\" y=\"-318.8\" font-family=\"Times,serif\" font-size=\"14.00\" fill=\"#000000\">True</text>\n</g>\n<!-- 31 -->\n<g id=\"node32\" class=\"node\">\n<title>31</title>\n<ellipse fill=\"#d3d3d3\" stroke=\"#000000\" cx=\"1485.0467\" cy=\"-18\" rx=\"37.0935\" ry=\"18\"/>\n<text text-anchor=\"middle\" x=\"1485.0467\" y=\"-14.3\" font-family=\"Times,serif\" font-size=\"14.00\" fill=\"#000000\">16.46</text>\n</g>\n<!-- 32 -->\n<g id=\"node33\" class=\"node\">\n<title>32</title>\n<ellipse fill=\"#d3d3d3\" stroke=\"#000000\" cx=\"1577.0467\" cy=\"-18\" rx=\"37.0935\" ry=\"18\"/>\n<text text-anchor=\"middle\" x=\"1577.0467\" y=\"-14.3\" font-family=\"Times,serif\" font-size=\"14.00\" fill=\"#000000\">15.54</text>\n</g>\n<!-- 33 -->\n<g id=\"node34\" class=\"node\">\n<title>33</title>\n<path fill=\"#ffff00\" stroke=\"#000000\" d=\"M1621.5467,-123C1621.5467,-123 1516.5467,-123 1516.5467,-123 1510.5467,-123 1504.5467,-117 1504.5467,-111 1504.5467,-111 1504.5467,-99 1504.5467,-99 1504.5467,-93 1510.5467,-87 1516.5467,-87 1516.5467,-87 1621.5467,-87 1621.5467,-87 1627.5467,-87 1633.5467,-93 1633.5467,-99 1633.5467,-99 1633.5467,-111 1633.5467,-111 1633.5467,-117 1627.5467,-123 1621.5467,-123\"/>\n<text text-anchor=\"middle\" x=\"1569.0467\" y=\"-101.3\" font-family=\"Times,serif\" font-size=\"14.00\" fill=\"#000000\">full_all &gt; 4630?</text>\n</g>\n<!-- 33&#45;&gt;31 -->\n<g id=\"edge31\" class=\"edge\">\n<title>33&#45;&gt;31</title>\n<path fill=\"none\" stroke=\"#000000\" d=\"M1549.4315,-86.9737C1543.4357,-81.3162 1536.8858,-74.9838 1531.0467,-69 1522.7583,-60.5061 1513.9614,-50.9078 1506.3044,-42.3477\"/>\n<polygon fill=\"#000000\" stroke=\"#000000\" points=\"1508.8961,-39.9952 1499.6401,-34.8398 1503.661,-44.6421 1508.8961,-39.9952\"/>\n<text text-anchor=\"middle\" x=\"1550.0467\" y=\"-57.8\" font-family=\"Times,serif\" font-size=\"14.00\" fill=\"#000000\">False</text>\n</g>\n<!-- 33&#45;&gt;32 -->\n<g id=\"edge32\" class=\"edge\">\n<title>33&#45;&gt;32</title>\n<path fill=\"none\" stroke=\"#000000\" d=\"M1570.7043,-86.9735C1571.7877,-75.1918 1573.225,-59.5607 1574.4575,-46.1581\"/>\n<polygon fill=\"#000000\" stroke=\"#000000\" points=\"1577.9608,-46.2819 1575.3912,-36.0034 1570.9902,-45.6408 1577.9608,-46.2819\"/>\n<text text-anchor=\"middle\" x=\"1591.0467\" y=\"-57.8\" font-family=\"Times,serif\" font-size=\"14.00\" fill=\"#000000\">True</text>\n</g>\n<!-- 34 -->\n<g id=\"node35\" class=\"node\">\n<title>34</title>\n<ellipse fill=\"#d3d3d3\" stroke=\"#000000\" cx=\"1669.0467\" cy=\"-18\" rx=\"37.0935\" ry=\"18\"/>\n<text text-anchor=\"middle\" x=\"1669.0467\" y=\"-14.3\" font-family=\"Times,serif\" font-size=\"14.00\" fill=\"#000000\">15.83</text>\n</g>\n<!-- 35 -->\n<g id=\"node36\" class=\"node\">\n<title>35</title>\n<ellipse fill=\"#d3d3d3\" stroke=\"#000000\" cx=\"1761.0467\" cy=\"-18\" rx=\"37.0935\" ry=\"18\"/>\n<text text-anchor=\"middle\" x=\"1761.0467\" y=\"-14.3\" font-family=\"Times,serif\" font-size=\"14.00\" fill=\"#000000\">16.06</text>\n</g>\n<!-- 36 -->\n<g id=\"node37\" class=\"node\">\n<title>36</title>\n<path fill=\"#ffff00\" stroke=\"#000000\" d=\"M1812.0467,-123C1812.0467,-123 1664.0467,-123 1664.0467,-123 1658.0467,-123 1652.0467,-117 1652.0467,-111 1652.0467,-111 1652.0467,-99 1652.0467,-99 1652.0467,-93 1658.0467,-87 1664.0467,-87 1664.0467,-87 1812.0467,-87 1812.0467,-87 1818.0467,-87 1824.0467,-93 1824.0467,-99 1824.0467,-99 1824.0467,-111 1824.0467,-111 1824.0467,-117 1818.0467,-123 1812.0467,-123\"/>\n<text text-anchor=\"middle\" x=\"1738.0467\" y=\"-101.3\" font-family=\"Times,serif\" font-size=\"14.00\" fill=\"#000000\">full_all &gt; 1.886e+04?</text>\n</g>\n<!-- 36&#45;&gt;34 -->\n<g id=\"edge33\" class=\"edge\">\n<title>36&#45;&gt;34</title>\n<path fill=\"none\" stroke=\"#000000\" d=\"M1722.0227,-86.8965C1717.1306,-81.2358 1711.7922,-74.9211 1707.0467,-69 1700.4866,-60.8148 1693.5623,-51.6813 1687.4475,-43.4306\"/>\n<polygon fill=\"#000000\" stroke=\"#000000\" points=\"1690.1609,-41.2124 1681.4175,-35.2287 1684.521,-45.3588 1690.1609,-41.2124\"/>\n<text text-anchor=\"middle\" x=\"1726.0467\" y=\"-57.8\" font-family=\"Times,serif\" font-size=\"14.00\" fill=\"#000000\">False</text>\n</g>\n<!-- 36&#45;&gt;35 -->\n<g id=\"edge34\" class=\"edge\">\n<title>36&#45;&gt;35</title>\n<path fill=\"none\" stroke=\"#000000\" d=\"M1742.8123,-86.9735C1745.9579,-75.0751 1750.1413,-59.2508 1753.7077,-45.7606\"/>\n<polygon fill=\"#000000\" stroke=\"#000000\" points=\"1757.115,-46.5658 1756.2872,-36.0034 1750.3475,-44.7766 1757.115,-46.5658\"/>\n<text text-anchor=\"middle\" x=\"1768.0467\" y=\"-57.8\" font-family=\"Times,serif\" font-size=\"14.00\" fill=\"#000000\">True</text>\n</g>\n<!-- 37 -->\n<g id=\"node38\" class=\"node\">\n<title>37</title>\n<path fill=\"#ffff00\" stroke=\"#000000\" d=\"M1788.0467,-210C1788.0467,-210 1688.0467,-210 1688.0467,-210 1682.0467,-210 1676.0467,-204 1676.0467,-198 1676.0467,-198 1676.0467,-186 1676.0467,-186 1676.0467,-180 1682.0467,-174 1688.0467,-174 1688.0467,-174 1788.0467,-174 1788.0467,-174 1794.0467,-174 1800.0467,-180 1800.0467,-186 1800.0467,-186 1800.0467,-198 1800.0467,-198 1800.0467,-204 1794.0467,-210 1788.0467,-210\"/>\n<text text-anchor=\"middle\" x=\"1738.0467\" y=\"-188.3\" font-family=\"Times,serif\" font-size=\"14.00\" fill=\"#000000\">full_sq &gt; 72.5?</text>\n</g>\n<!-- 37&#45;&gt;33 -->\n<g id=\"edge35\" class=\"edge\">\n<title>37&#45;&gt;33</title>\n<path fill=\"none\" stroke=\"#000000\" d=\"M1703.0298,-173.9735C1676.971,-160.5587 1641.2181,-142.1533 1613.1992,-127.7294\"/>\n<polygon fill=\"#000000\" stroke=\"#000000\" points=\"1614.5118,-124.4686 1604.0188,-123.0034 1611.3078,-130.6923 1614.5118,-124.4686\"/>\n<text text-anchor=\"middle\" x=\"1683.0467\" y=\"-144.8\" font-family=\"Times,serif\" font-size=\"14.00\" fill=\"#000000\">False</text>\n</g>\n<!-- 37&#45;&gt;36 -->\n<g id=\"edge36\" class=\"edge\">\n<title>37&#45;&gt;36</title>\n<path fill=\"none\" stroke=\"#000000\" d=\"M1738.0467,-173.9735C1738.0467,-162.1918 1738.0467,-146.5607 1738.0467,-133.1581\"/>\n<polygon fill=\"#000000\" stroke=\"#000000\" points=\"1741.5468,-133.0033 1738.0467,-123.0034 1734.5468,-133.0034 1741.5468,-133.0033\"/>\n<text text-anchor=\"middle\" x=\"1755.0467\" y=\"-144.8\" font-family=\"Times,serif\" font-size=\"14.00\" fill=\"#000000\">True</text>\n</g>\n<!-- 38 -->\n<g id=\"node39\" class=\"node\">\n<title>38</title>\n<ellipse fill=\"#d3d3d3\" stroke=\"#000000\" cx=\"1853.0467\" cy=\"-18\" rx=\"37.0935\" ry=\"18\"/>\n<text text-anchor=\"middle\" x=\"1853.0467\" y=\"-14.3\" font-family=\"Times,serif\" font-size=\"14.00\" fill=\"#000000\">16.33</text>\n</g>\n<!-- 39 -->\n<g id=\"node40\" class=\"node\">\n<title>39</title>\n<ellipse fill=\"#d3d3d3\" stroke=\"#000000\" cx=\"1945.0467\" cy=\"-18\" rx=\"37.0935\" ry=\"18\"/>\n<text text-anchor=\"middle\" x=\"1945.0467\" y=\"-14.3\" font-family=\"Times,serif\" font-size=\"14.00\" fill=\"#000000\">16.57</text>\n</g>\n<!-- 40 -->\n<g id=\"node41\" class=\"node\">\n<title>40</title>\n<path fill=\"#ffff00\" stroke=\"#000000\" d=\"M1954.0467,-123C1954.0467,-123 1854.0467,-123 1854.0467,-123 1848.0467,-123 1842.0467,-117 1842.0467,-111 1842.0467,-111 1842.0467,-99 1842.0467,-99 1842.0467,-93 1848.0467,-87 1854.0467,-87 1854.0467,-87 1954.0467,-87 1954.0467,-87 1960.0467,-87 1966.0467,-93 1966.0467,-99 1966.0467,-99 1966.0467,-111 1966.0467,-111 1966.0467,-117 1960.0467,-123 1954.0467,-123\"/>\n<text text-anchor=\"middle\" x=\"1904.0467\" y=\"-101.3\" font-family=\"Times,serif\" font-size=\"14.00\" fill=\"#000000\">full_sq &gt; 91.5?</text>\n</g>\n<!-- 40&#45;&gt;38 -->\n<g id=\"edge37\" class=\"edge\">\n<title>40&#45;&gt;38</title>\n<path fill=\"none\" stroke=\"#000000\" d=\"M1892.1084,-86.8322C1888.4767,-81.1689 1884.5273,-74.8688 1881.0467,-69 1876.3805,-61.1321 1871.5116,-52.4484 1867.1675,-44.5108\"/>\n<polygon fill=\"#000000\" stroke=\"#000000\" points=\"1870.1953,-42.7521 1862.3524,-35.629 1864.0415,-46.0884 1870.1953,-42.7521\"/>\n<text text-anchor=\"middle\" x=\"1900.0467\" y=\"-57.8\" font-family=\"Times,serif\" font-size=\"14.00\" fill=\"#000000\">False</text>\n</g>\n<!-- 40&#45;&gt;39 -->\n<g id=\"edge38\" class=\"edge\">\n<title>40&#45;&gt;39</title>\n<path fill=\"none\" stroke=\"#000000\" d=\"M1912.5419,-86.9735C1918.242,-74.8784 1925.8538,-58.7263 1932.2786,-45.0934\"/>\n<polygon fill=\"#000000\" stroke=\"#000000\" points=\"1935.6057,-46.2436 1936.7027,-35.7057 1929.2736,-43.2595 1935.6057,-46.2436\"/>\n<text text-anchor=\"middle\" x=\"1944.0467\" y=\"-57.8\" font-family=\"Times,serif\" font-size=\"14.00\" fill=\"#000000\">True</text>\n</g>\n<!-- 41 -->\n<g id=\"node42\" class=\"node\">\n<title>41</title>\n<ellipse fill=\"#d3d3d3\" stroke=\"#000000\" cx=\"2037.0467\" cy=\"-18\" rx=\"37.0935\" ry=\"18\"/>\n<text text-anchor=\"middle\" x=\"2037.0467\" y=\"-14.3\" font-family=\"Times,serif\" font-size=\"14.00\" fill=\"#000000\">16.07</text>\n</g>\n<!-- 42 -->\n<g id=\"node43\" class=\"node\">\n<title>42</title>\n<ellipse fill=\"#d3d3d3\" stroke=\"#000000\" cx=\"2129.0467\" cy=\"-18\" rx=\"37.0935\" ry=\"18\"/>\n<text text-anchor=\"middle\" x=\"2129.0467\" y=\"-14.3\" font-family=\"Times,serif\" font-size=\"14.00\" fill=\"#000000\">16.35</text>\n</g>\n<!-- 43 -->\n<g id=\"node44\" class=\"node\">\n<title>43</title>\n<path fill=\"#ffff00\" stroke=\"#000000\" d=\"M2096.0467,-123C2096.0467,-123 1996.0467,-123 1996.0467,-123 1990.0467,-123 1984.0467,-117 1984.0467,-111 1984.0467,-111 1984.0467,-99 1984.0467,-99 1984.0467,-93 1990.0467,-87 1996.0467,-87 1996.0467,-87 2096.0467,-87 2096.0467,-87 2102.0467,-87 2108.0467,-93 2108.0467,-99 2108.0467,-99 2108.0467,-111 2108.0467,-111 2108.0467,-117 2102.0467,-123 2096.0467,-123\"/>\n<text text-anchor=\"middle\" x=\"2046.0467\" y=\"-101.3\" font-family=\"Times,serif\" font-size=\"14.00\" fill=\"#000000\">full_sq &gt; 87.5?</text>\n</g>\n<!-- 43&#45;&gt;41 -->\n<g id=\"edge39\" class=\"edge\">\n<title>43&#45;&gt;41</title>\n<path fill=\"none\" stroke=\"#000000\" d=\"M2044.1819,-86.9735C2042.9631,-75.1918 2041.3461,-59.5607 2039.9596,-46.1581\"/>\n<polygon fill=\"#000000\" stroke=\"#000000\" points=\"2043.4196,-45.5901 2038.9091,-36.0034 2036.4568,-46.3105 2043.4196,-45.5901\"/>\n<text text-anchor=\"middle\" x=\"2062.0467\" y=\"-57.8\" font-family=\"Times,serif\" font-size=\"14.00\" fill=\"#000000\">False</text>\n</g>\n<!-- 43&#45;&gt;42 -->\n<g id=\"edge40\" class=\"edge\">\n<title>43&#45;&gt;42</title>\n<path fill=\"none\" stroke=\"#000000\" d=\"M2066.7034,-86.74C2072.7502,-81.181 2079.2819,-74.9617 2085.0467,-69 2093.055,-60.7183 2101.4157,-51.2579 2108.6716,-42.7526\"/>\n<polygon fill=\"#000000\" stroke=\"#000000\" points=\"2111.4716,-44.8614 2115.2423,-34.9602 2106.1202,-40.3489 2111.4716,-44.8614\"/>\n<text text-anchor=\"middle\" x=\"2116.0467\" y=\"-57.8\" font-family=\"Times,serif\" font-size=\"14.00\" fill=\"#000000\">True</text>\n</g>\n<!-- 44 -->\n<g id=\"node45\" class=\"node\">\n<title>44</title>\n<path fill=\"#ffff00\" stroke=\"#000000\" d=\"M1978.0467,-210C1978.0467,-210 1830.0467,-210 1830.0467,-210 1824.0467,-210 1818.0467,-204 1818.0467,-198 1818.0467,-198 1818.0467,-186 1818.0467,-186 1818.0467,-180 1824.0467,-174 1830.0467,-174 1830.0467,-174 1978.0467,-174 1978.0467,-174 1984.0467,-174 1990.0467,-180 1990.0467,-186 1990.0467,-186 1990.0467,-198 1990.0467,-198 1990.0467,-204 1984.0467,-210 1978.0467,-210\"/>\n<text text-anchor=\"middle\" x=\"1904.0467\" y=\"-188.3\" font-family=\"Times,serif\" font-size=\"14.00\" fill=\"#000000\">full_all &gt; 8.446e+04?</text>\n</g>\n<!-- 44&#45;&gt;40 -->\n<g id=\"edge41\" class=\"edge\">\n<title>44&#45;&gt;40</title>\n<path fill=\"none\" stroke=\"#000000\" d=\"M1904.0467,-173.9735C1904.0467,-162.1918 1904.0467,-146.5607 1904.0467,-133.1581\"/>\n<polygon fill=\"#000000\" stroke=\"#000000\" points=\"1907.5468,-133.0033 1904.0467,-123.0034 1900.5468,-133.0034 1907.5468,-133.0033\"/>\n<text text-anchor=\"middle\" x=\"1923.0467\" y=\"-144.8\" font-family=\"Times,serif\" font-size=\"14.00\" fill=\"#000000\">False</text>\n</g>\n<!-- 44&#45;&gt;43 -->\n<g id=\"edge42\" class=\"edge\">\n<title>44&#45;&gt;43</title>\n<path fill=\"none\" stroke=\"#000000\" d=\"M1933.4692,-173.9735C1955.0792,-160.7336 1984.6234,-142.6326 2008.0237,-128.2958\"/>\n<polygon fill=\"#000000\" stroke=\"#000000\" points=\"2009.9635,-131.212 2016.6619,-123.0034 2006.3065,-125.2432 2009.9635,-131.212\"/>\n<text text-anchor=\"middle\" x=\"2001.0467\" y=\"-144.8\" font-family=\"Times,serif\" font-size=\"14.00\" fill=\"#000000\">True</text>\n</g>\n<!-- 45 -->\n<g id=\"node46\" class=\"node\">\n<title>45</title>\n<path fill=\"#ffff00\" stroke=\"#000000\" d=\"M1916.0467,-297C1916.0467,-297 1768.0467,-297 1768.0467,-297 1762.0467,-297 1756.0467,-291 1756.0467,-285 1756.0467,-285 1756.0467,-273 1756.0467,-273 1756.0467,-267 1762.0467,-261 1768.0467,-261 1768.0467,-261 1916.0467,-261 1916.0467,-261 1922.0467,-261 1928.0467,-267 1928.0467,-273 1928.0467,-273 1928.0467,-285 1928.0467,-285 1928.0467,-291 1922.0467,-297 1916.0467,-297\"/>\n<text text-anchor=\"middle\" x=\"1842.0467\" y=\"-275.3\" font-family=\"Times,serif\" font-size=\"14.00\" fill=\"#000000\">full_all &gt; 4.069e+04?</text>\n</g>\n<!-- 45&#45;&gt;37 -->\n<g id=\"edge43\" class=\"edge\">\n<title>45&#45;&gt;37</title>\n<path fill=\"none\" stroke=\"#000000\" d=\"M1820.4978,-260.9735C1805.1589,-248.1419 1784.3618,-230.7443 1767.4926,-216.6326\"/>\n<polygon fill=\"#000000\" stroke=\"#000000\" points=\"1769.4838,-213.7352 1759.568,-210.0034 1764.9924,-219.1043 1769.4838,-213.7352\"/>\n<text text-anchor=\"middle\" x=\"1816.0467\" y=\"-231.8\" font-family=\"Times,serif\" font-size=\"14.00\" fill=\"#000000\">False</text>\n</g>\n<!-- 45&#45;&gt;44 -->\n<g id=\"edge44\" class=\"edge\">\n<title>45&#45;&gt;44</title>\n<path fill=\"none\" stroke=\"#000000\" d=\"M1854.8932,-260.9735C1863.705,-248.6085 1875.5384,-232.0036 1885.3863,-218.1847\"/>\n<polygon fill=\"#000000\" stroke=\"#000000\" points=\"1888.2634,-220.1783 1891.2167,-210.0034 1882.5629,-216.1158 1888.2634,-220.1783\"/>\n<text text-anchor=\"middle\" x=\"1894.0467\" y=\"-231.8\" font-family=\"Times,serif\" font-size=\"14.00\" fill=\"#000000\">True</text>\n</g>\n<!-- 46 -->\n<g id=\"node47\" class=\"node\">\n<title>46</title>\n<ellipse fill=\"#d3d3d3\" stroke=\"#000000\" cx=\"2221.0467\" cy=\"-18\" rx=\"37.0935\" ry=\"18\"/>\n<text text-anchor=\"middle\" x=\"2221.0467\" y=\"-14.3\" font-family=\"Times,serif\" font-size=\"14.00\" fill=\"#000000\">15.57</text>\n</g>\n<!-- 47 -->\n<g id=\"node48\" class=\"node\">\n<title>47</title>\n<ellipse fill=\"#d3d3d3\" stroke=\"#000000\" cx=\"2313.0467\" cy=\"-18\" rx=\"37.0935\" ry=\"18\"/>\n<text text-anchor=\"middle\" x=\"2313.0467\" y=\"-14.3\" font-family=\"Times,serif\" font-size=\"14.00\" fill=\"#000000\">16.32</text>\n</g>\n<!-- 48 -->\n<g id=\"node49\" class=\"node\">\n<title>48</title>\n<path fill=\"#ffff00\" stroke=\"#000000\" d=\"M2332.5467,-123C2332.5467,-123 2223.5467,-123 2223.5467,-123 2217.5467,-123 2211.5467,-117 2211.5467,-111 2211.5467,-111 2211.5467,-99 2211.5467,-99 2211.5467,-93 2217.5467,-87 2223.5467,-87 2223.5467,-87 2332.5467,-87 2332.5467,-87 2338.5467,-87 2344.5467,-93 2344.5467,-99 2344.5467,-99 2344.5467,-111 2344.5467,-111 2344.5467,-117 2338.5467,-123 2332.5467,-123\"/>\n<text text-anchor=\"middle\" x=\"2278.0467\" y=\"-101.3\" font-family=\"Times,serif\" font-size=\"14.00\" fill=\"#000000\">full_sq &gt; 177.5?</text>\n</g>\n<!-- 48&#45;&gt;46 -->\n<g id=\"edge45\" class=\"edge\">\n<title>48&#45;&gt;46</title>\n<path fill=\"none\" stroke=\"#000000\" d=\"M2264.5351,-86.883C2260.4291,-81.2218 2255.9682,-74.9101 2252.0467,-69 2246.8022,-61.096 2241.3443,-52.3231 2236.4963,-44.3135\"/>\n<polygon fill=\"#000000\" stroke=\"#000000\" points=\"2239.4671,-42.4618 2231.3258,-35.6817 2233.462,-46.0589 2239.4671,-42.4618\"/>\n<text text-anchor=\"middle\" x=\"2271.0467\" y=\"-57.8\" font-family=\"Times,serif\" font-size=\"14.00\" fill=\"#000000\">False</text>\n</g>\n<!-- 48&#45;&gt;47 -->\n<g id=\"edge46\" class=\"edge\">\n<title>48&#45;&gt;47</title>\n<path fill=\"none\" stroke=\"#000000\" d=\"M2285.2987,-86.9735C2290.1646,-74.8784 2296.6626,-58.7263 2302.1471,-45.0934\"/>\n<polygon fill=\"#000000\" stroke=\"#000000\" points=\"2305.4385,-46.2894 2305.9237,-35.7057 2298.9443,-43.6768 2305.4385,-46.2894\"/>\n<text text-anchor=\"middle\" x=\"2315.0467\" y=\"-57.8\" font-family=\"Times,serif\" font-size=\"14.00\" fill=\"#000000\">True</text>\n</g>\n<!-- 49 -->\n<g id=\"node50\" class=\"node\">\n<title>49</title>\n<ellipse fill=\"#d3d3d3\" stroke=\"#000000\" cx=\"2405.0467\" cy=\"-18\" rx=\"37.0935\" ry=\"18\"/>\n<text text-anchor=\"middle\" x=\"2405.0467\" y=\"-14.3\" font-family=\"Times,serif\" font-size=\"14.00\" fill=\"#000000\">16.12</text>\n</g>\n<!-- 50 -->\n<g id=\"node51\" class=\"node\">\n<title>50</title>\n<ellipse fill=\"#d3d3d3\" stroke=\"#000000\" cx=\"2497.0467\" cy=\"-18\" rx=\"37.0935\" ry=\"18\"/>\n<text text-anchor=\"middle\" x=\"2497.0467\" y=\"-14.3\" font-family=\"Times,serif\" font-size=\"14.00\" fill=\"#000000\">16.52</text>\n</g>\n<!-- 51 -->\n<g id=\"node52\" class=\"node\">\n<title>51</title>\n<path fill=\"#ffff00\" stroke=\"#000000\" d=\"M2469.5467,-123C2469.5467,-123 2374.5467,-123 2374.5467,-123 2368.5467,-123 2362.5467,-117 2362.5467,-111 2362.5467,-111 2362.5467,-99 2362.5467,-99 2362.5467,-93 2368.5467,-87 2374.5467,-87 2374.5467,-87 2469.5467,-87 2469.5467,-87 2475.5467,-87 2481.5467,-93 2481.5467,-99 2481.5467,-99 2481.5467,-111 2481.5467,-111 2481.5467,-117 2475.5467,-123 2469.5467,-123\"/>\n<text text-anchor=\"middle\" x=\"2422.0467\" y=\"-101.3\" font-family=\"Times,serif\" font-size=\"14.00\" fill=\"#000000\">full_sq &gt; 133?</text>\n</g>\n<!-- 51&#45;&gt;49 -->\n<g id=\"edge47\" class=\"edge\">\n<title>51&#45;&gt;49</title>\n<path fill=\"none\" stroke=\"#000000\" d=\"M2418.5243,-86.9735C2416.2221,-75.1918 2413.1678,-59.5607 2410.5489,-46.1581\"/>\n<polygon fill=\"#000000\" stroke=\"#000000\" points=\"2413.9175,-45.1465 2408.5646,-36.0034 2407.0474,-46.489 2413.9175,-45.1465\"/>\n<text text-anchor=\"middle\" x=\"2434.0467\" y=\"-57.8\" font-family=\"Times,serif\" font-size=\"14.00\" fill=\"#000000\">False</text>\n</g>\n<!-- 51&#45;&gt;50 -->\n<g id=\"edge48\" class=\"edge\">\n<title>51&#45;&gt;50</title>\n<path fill=\"none\" stroke=\"#000000\" d=\"M2440.5987,-86.6715C2446.0258,-81.1106 2451.8843,-74.9074 2457.0467,-69 2464.1552,-60.8659 2471.5573,-51.6604 2478.0332,-43.3311\"/>\n<polygon fill=\"#000000\" stroke=\"#000000\" points=\"2480.8363,-45.4275 2484.1552,-35.3659 2475.2862,-41.1617 2480.8363,-45.4275\"/>\n<text text-anchor=\"middle\" x=\"2486.0467\" y=\"-57.8\" font-family=\"Times,serif\" font-size=\"14.00\" fill=\"#000000\">True</text>\n</g>\n<!-- 52 -->\n<g id=\"node53\" class=\"node\">\n<title>52</title>\n<path fill=\"#ffff00\" stroke=\"#000000\" d=\"M2392.5467,-210C2392.5467,-210 2287.5467,-210 2287.5467,-210 2281.5467,-210 2275.5467,-204 2275.5467,-198 2275.5467,-198 2275.5467,-186 2275.5467,-186 2275.5467,-180 2281.5467,-174 2287.5467,-174 2287.5467,-174 2392.5467,-174 2392.5467,-174 2398.5467,-174 2404.5467,-180 2404.5467,-186 2404.5467,-186 2404.5467,-198 2404.5467,-198 2404.5467,-204 2398.5467,-210 2392.5467,-210\"/>\n<text text-anchor=\"middle\" x=\"2340.0467\" y=\"-188.3\" font-family=\"Times,serif\" font-size=\"14.00\" fill=\"#000000\">full_all &gt; 6642?</text>\n</g>\n<!-- 52&#45;&gt;48 -->\n<g id=\"edge49\" class=\"edge\">\n<title>52&#45;&gt;48</title>\n<path fill=\"none\" stroke=\"#000000\" d=\"M2327.2003,-173.9735C2318.3884,-161.6085 2306.555,-145.0036 2296.7071,-131.1847\"/>\n<polygon fill=\"#000000\" stroke=\"#000000\" points=\"2299.5305,-129.1158 2290.8767,-123.0034 2293.83,-133.1783 2299.5305,-129.1158\"/>\n<text text-anchor=\"middle\" x=\"2332.0467\" y=\"-144.8\" font-family=\"Times,serif\" font-size=\"14.00\" fill=\"#000000\">False</text>\n</g>\n<!-- 52&#45;&gt;51 -->\n<g id=\"edge50\" class=\"edge\">\n<title>52&#45;&gt;51</title>\n<path fill=\"none\" stroke=\"#000000\" d=\"M2357.0372,-173.9735C2368.9115,-161.3752 2384.9342,-144.3755 2398.1013,-130.4055\"/>\n<polygon fill=\"#000000\" stroke=\"#000000\" points=\"2400.7661,-132.6811 2405.078,-123.0034 2395.6721,-127.8799 2400.7661,-132.6811\"/>\n<text text-anchor=\"middle\" x=\"2403.0467\" y=\"-144.8\" font-family=\"Times,serif\" font-size=\"14.00\" fill=\"#000000\">True</text>\n</g>\n<!-- 53 -->\n<g id=\"node54\" class=\"node\">\n<title>53</title>\n<ellipse fill=\"#d3d3d3\" stroke=\"#000000\" cx=\"2589.0467\" cy=\"-18\" rx=\"37.0935\" ry=\"18\"/>\n<text text-anchor=\"middle\" x=\"2589.0467\" y=\"-14.3\" font-family=\"Times,serif\" font-size=\"14.00\" fill=\"#000000\">16.38</text>\n</g>\n<!-- 54 -->\n<g id=\"node55\" class=\"node\">\n<title>54</title>\n<ellipse fill=\"#d3d3d3\" stroke=\"#000000\" cx=\"2681.0467\" cy=\"-18\" rx=\"37.0935\" ry=\"18\"/>\n<text text-anchor=\"middle\" x=\"2681.0467\" y=\"-14.3\" font-family=\"Times,serif\" font-size=\"14.00\" fill=\"#000000\">16.74</text>\n</g>\n<!-- 55 -->\n<g id=\"node56\" class=\"node\">\n<title>55</title>\n<path fill=\"#ffff00\" stroke=\"#000000\" d=\"M2662.5467,-123C2662.5467,-123 2543.5467,-123 2543.5467,-123 2537.5467,-123 2531.5467,-117 2531.5467,-111 2531.5467,-111 2531.5467,-99 2531.5467,-99 2531.5467,-93 2537.5467,-87 2543.5467,-87 2543.5467,-87 2662.5467,-87 2662.5467,-87 2668.5467,-87 2674.5467,-93 2674.5467,-99 2674.5467,-99 2674.5467,-111 2674.5467,-111 2674.5467,-117 2668.5467,-123 2662.5467,-123\"/>\n<text text-anchor=\"middle\" x=\"2603.0467\" y=\"-101.3\" font-family=\"Times,serif\" font-size=\"14.00\" fill=\"#000000\">num_room &gt; 2.5?</text>\n</g>\n<!-- 55&#45;&gt;53 -->\n<g id=\"edge51\" class=\"edge\">\n<title>55&#45;&gt;53</title>\n<path fill=\"none\" stroke=\"#000000\" d=\"M2600.1459,-86.9735C2598.25,-75.1918 2595.7346,-59.5607 2593.5779,-46.1581\"/>\n<polygon fill=\"#000000\" stroke=\"#000000\" points=\"2596.9882,-45.3203 2591.9438,-36.0034 2590.0771,-46.4324 2596.9882,-45.3203\"/>\n<text text-anchor=\"middle\" x=\"2616.0467\" y=\"-57.8\" font-family=\"Times,serif\" font-size=\"14.00\" fill=\"#000000\">False</text>\n</g>\n<!-- 55&#45;&gt;54 -->\n<g id=\"edge52\" class=\"edge\">\n<title>55&#45;&gt;54</title>\n<path fill=\"none\" stroke=\"#000000\" d=\"M2622.0818,-86.6492C2627.6626,-81.0876 2633.6995,-74.8897 2639.0467,-69 2646.5641,-60.72 2654.4476,-51.3493 2661.3279,-42.9198\"/>\n<polygon fill=\"#000000\" stroke=\"#000000\" points=\"2664.2619,-44.8575 2667.8231,-34.8792 2658.8166,-40.4588 2664.2619,-44.8575\"/>\n<text text-anchor=\"middle\" x=\"2668.0467\" y=\"-57.8\" font-family=\"Times,serif\" font-size=\"14.00\" fill=\"#000000\">True</text>\n</g>\n<!-- 56 -->\n<g id=\"node57\" class=\"node\">\n<title>56</title>\n<ellipse fill=\"#d3d3d3\" stroke=\"#000000\" cx=\"2773.0467\" cy=\"-18\" rx=\"37.0935\" ry=\"18\"/>\n<text text-anchor=\"middle\" x=\"2773.0467\" y=\"-14.3\" font-family=\"Times,serif\" font-size=\"14.00\" fill=\"#000000\">17.11</text>\n</g>\n<!-- 57 -->\n<g id=\"node58\" class=\"node\">\n<title>57</title>\n<ellipse fill=\"#d3d3d3\" stroke=\"#000000\" cx=\"2865.0467\" cy=\"-18\" rx=\"37.0935\" ry=\"18\"/>\n<text text-anchor=\"middle\" x=\"2865.0467\" y=\"-14.3\" font-family=\"Times,serif\" font-size=\"14.00\" fill=\"#000000\">15.92</text>\n</g>\n<!-- 58 -->\n<g id=\"node59\" class=\"node\">\n<title>58</title>\n<path fill=\"#ffff00\" stroke=\"#000000\" d=\"M2827.0467,-123C2827.0467,-123 2719.0467,-123 2719.0467,-123 2713.0467,-123 2707.0467,-117 2707.0467,-111 2707.0467,-111 2707.0467,-99 2707.0467,-99 2707.0467,-93 2713.0467,-87 2719.0467,-87 2719.0467,-87 2827.0467,-87 2827.0467,-87 2833.0467,-87 2839.0467,-93 2839.0467,-99 2839.0467,-99 2839.0467,-111 2839.0467,-111 2839.0467,-117 2833.0467,-123 2827.0467,-123\"/>\n<text text-anchor=\"middle\" x=\"2773.0467\" y=\"-101.3\" font-family=\"Times,serif\" font-size=\"14.00\" fill=\"#000000\">life_sq &gt; 177.5?</text>\n</g>\n<!-- 58&#45;&gt;56 -->\n<g id=\"edge53\" class=\"edge\">\n<title>58&#45;&gt;56</title>\n<path fill=\"none\" stroke=\"#000000\" d=\"M2773.0467,-86.9735C2773.0467,-75.1918 2773.0467,-59.5607 2773.0467,-46.1581\"/>\n<polygon fill=\"#000000\" stroke=\"#000000\" points=\"2776.5468,-46.0033 2773.0467,-36.0034 2769.5468,-46.0034 2776.5468,-46.0033\"/>\n<text text-anchor=\"middle\" x=\"2792.0467\" y=\"-57.8\" font-family=\"Times,serif\" font-size=\"14.00\" fill=\"#000000\">False</text>\n</g>\n<!-- 58&#45;&gt;57 -->\n<g id=\"edge54\" class=\"edge\">\n<title>58&#45;&gt;57</title>\n<path fill=\"none\" stroke=\"#000000\" d=\"M2795.1607,-86.6673C2801.669,-81.1062 2808.7341,-74.904 2815.0467,-69 2824.2923,-60.3529 2834.1158,-50.4915 2842.5857,-41.7596\"/>\n<polygon fill=\"#000000\" stroke=\"#000000\" points=\"2845.221,-44.0688 2849.6321,-34.4359 2840.1766,-39.2155 2845.221,-44.0688\"/>\n<text text-anchor=\"middle\" x=\"2846.0467\" y=\"-57.8\" font-family=\"Times,serif\" font-size=\"14.00\" fill=\"#000000\">True</text>\n</g>\n<!-- 59 -->\n<g id=\"node60\" class=\"node\">\n<title>59</title>\n<path fill=\"#ffff00\" stroke=\"#000000\" d=\"M2657.5467,-210C2657.5467,-210 2548.5467,-210 2548.5467,-210 2542.5467,-210 2536.5467,-204 2536.5467,-198 2536.5467,-198 2536.5467,-186 2536.5467,-186 2536.5467,-180 2542.5467,-174 2548.5467,-174 2548.5467,-174 2657.5467,-174 2657.5467,-174 2663.5467,-174 2669.5467,-180 2669.5467,-186 2669.5467,-186 2669.5467,-198 2669.5467,-198 2669.5467,-204 2663.5467,-210 2657.5467,-210\"/>\n<text text-anchor=\"middle\" x=\"2603.0467\" y=\"-188.3\" font-family=\"Times,serif\" font-size=\"14.00\" fill=\"#000000\">full_sq &gt; 124.5?</text>\n</g>\n<!-- 59&#45;&gt;55 -->\n<g id=\"edge55\" class=\"edge\">\n<title>59&#45;&gt;55</title>\n<path fill=\"none\" stroke=\"#000000\" d=\"M2603.0467,-173.9735C2603.0467,-162.1918 2603.0467,-146.5607 2603.0467,-133.1581\"/>\n<polygon fill=\"#000000\" stroke=\"#000000\" points=\"2606.5468,-133.0033 2603.0467,-123.0034 2599.5468,-133.0034 2606.5468,-133.0033\"/>\n<text text-anchor=\"middle\" x=\"2622.0467\" y=\"-144.8\" font-family=\"Times,serif\" font-size=\"14.00\" fill=\"#000000\">False</text>\n</g>\n<!-- 59&#45;&gt;58 -->\n<g id=\"edge56\" class=\"edge\">\n<title>59&#45;&gt;58</title>\n<path fill=\"none\" stroke=\"#000000\" d=\"M2638.2708,-173.9735C2664.4838,-160.5587 2700.4483,-142.1533 2728.633,-127.7294\"/>\n<polygon fill=\"#000000\" stroke=\"#000000\" points=\"2730.5603,-130.6748 2737.8677,-123.0034 2727.3712,-124.4434 2730.5603,-130.6748\"/>\n<text text-anchor=\"middle\" x=\"2716.0467\" y=\"-144.8\" font-family=\"Times,serif\" font-size=\"14.00\" fill=\"#000000\">True</text>\n</g>\n<!-- 60 -->\n<g id=\"node61\" class=\"node\">\n<title>60</title>\n<path fill=\"#ffff00\" stroke=\"#000000\" d=\"M2414.0467,-297C2414.0467,-297 2266.0467,-297 2266.0467,-297 2260.0467,-297 2254.0467,-291 2254.0467,-285 2254.0467,-285 2254.0467,-273 2254.0467,-273 2254.0467,-267 2260.0467,-261 2266.0467,-261 2266.0467,-261 2414.0467,-261 2414.0467,-261 2420.0467,-261 2426.0467,-267 2426.0467,-273 2426.0467,-273 2426.0467,-285 2426.0467,-285 2426.0467,-291 2420.0467,-297 2414.0467,-297\"/>\n<text text-anchor=\"middle\" x=\"2340.0467\" y=\"-275.3\" font-family=\"Times,serif\" font-size=\"14.00\" fill=\"#000000\">full_all &gt; 1.947e+04?</text>\n</g>\n<!-- 60&#45;&gt;52 -->\n<g id=\"edge57\" class=\"edge\">\n<title>60&#45;&gt;52</title>\n<path fill=\"none\" stroke=\"#000000\" d=\"M2340.0467,-260.9735C2340.0467,-249.1918 2340.0467,-233.5607 2340.0467,-220.1581\"/>\n<polygon fill=\"#000000\" stroke=\"#000000\" points=\"2343.5468,-220.0033 2340.0467,-210.0034 2336.5468,-220.0034 2343.5468,-220.0033\"/>\n<text text-anchor=\"middle\" x=\"2359.0467\" y=\"-231.8\" font-family=\"Times,serif\" font-size=\"14.00\" fill=\"#000000\">False</text>\n</g>\n<!-- 60&#45;&gt;59 -->\n<g id=\"edge58\" class=\"edge\">\n<title>60&#45;&gt;59</title>\n<path fill=\"none\" stroke=\"#000000\" d=\"M2394.5405,-260.9735C2436.5922,-247.0629 2494.8657,-227.7861 2539.1197,-213.147\"/>\n<polygon fill=\"#000000\" stroke=\"#000000\" points=\"2540.228,-216.467 2548.6228,-210.0034 2538.0295,-209.8211 2540.228,-216.467\"/>\n<text text-anchor=\"middle\" x=\"2505.0467\" y=\"-231.8\" font-family=\"Times,serif\" font-size=\"14.00\" fill=\"#000000\">True</text>\n</g>\n<!-- 61 -->\n<g id=\"node62\" class=\"node\">\n<title>61</title>\n<path fill=\"#ffff00\" stroke=\"#000000\" d=\"M1896.5467,-384C1896.5467,-384 1787.5467,-384 1787.5467,-384 1781.5467,-384 1775.5467,-378 1775.5467,-372 1775.5467,-372 1775.5467,-360 1775.5467,-360 1775.5467,-354 1781.5467,-348 1787.5467,-348 1787.5467,-348 1896.5467,-348 1896.5467,-348 1902.5467,-348 1908.5467,-354 1908.5467,-360 1908.5467,-360 1908.5467,-372 1908.5467,-372 1908.5467,-378 1902.5467,-384 1896.5467,-384\"/>\n<text text-anchor=\"middle\" x=\"1842.0467\" y=\"-362.3\" font-family=\"Times,serif\" font-size=\"14.00\" fill=\"#000000\">full_sq &gt; 104.5?</text>\n</g>\n<!-- 61&#45;&gt;45 -->\n<g id=\"edge59\" class=\"edge\">\n<title>61&#45;&gt;45</title>\n<path fill=\"none\" stroke=\"#000000\" d=\"M1842.0467,-347.9735C1842.0467,-336.1918 1842.0467,-320.5607 1842.0467,-307.1581\"/>\n<polygon fill=\"#000000\" stroke=\"#000000\" points=\"1845.5468,-307.0033 1842.0467,-297.0034 1838.5468,-307.0034 1845.5468,-307.0033\"/>\n<text text-anchor=\"middle\" x=\"1861.0467\" y=\"-318.8\" font-family=\"Times,serif\" font-size=\"14.00\" fill=\"#000000\">False</text>\n</g>\n<!-- 61&#45;&gt;60 -->\n<g id=\"edge60\" class=\"edge\">\n<title>61&#45;&gt;60</title>\n<path fill=\"none\" stroke=\"#000000\" d=\"M1908.6925,-354.3571C1994.789,-339.3161 2145.2732,-313.0267 2243.7849,-295.8168\"/>\n<polygon fill=\"#000000\" stroke=\"#000000\" points=\"2244.4976,-299.2454 2253.746,-294.0766 2243.2929,-292.3499 2244.4976,-299.2454\"/>\n<text text-anchor=\"middle\" x=\"2138.0467\" y=\"-318.8\" font-family=\"Times,serif\" font-size=\"14.00\" fill=\"#000000\">True</text>\n</g>\n<!-- 62 -->\n<g id=\"node63\" class=\"node\">\n<title>62</title>\n<path fill=\"#ffff00\" stroke=\"#000000\" d=\"M1469.0467,-471C1469.0467,-471 1369.0467,-471 1369.0467,-471 1363.0467,-471 1357.0467,-465 1357.0467,-459 1357.0467,-459 1357.0467,-447 1357.0467,-447 1357.0467,-441 1363.0467,-435 1369.0467,-435 1369.0467,-435 1469.0467,-435 1469.0467,-435 1475.0467,-435 1481.0467,-441 1481.0467,-447 1481.0467,-447 1481.0467,-459 1481.0467,-459 1481.0467,-465 1475.0467,-471 1469.0467,-471\"/>\n<text text-anchor=\"middle\" x=\"1419.0467\" y=\"-449.3\" font-family=\"Times,serif\" font-size=\"14.00\" fill=\"#000000\">full_sq &gt; 68.5?</text>\n</g>\n<!-- 62&#45;&gt;30 -->\n<g id=\"edge61\" class=\"edge\">\n<title>62&#45;&gt;30</title>\n<path fill=\"none\" stroke=\"#000000\" d=\"M1357.0346,-438.5361C1291.2851,-423.2004 1187.5458,-399.0038 1118.1829,-382.8253\"/>\n<polygon fill=\"#000000\" stroke=\"#000000\" points=\"1118.7407,-379.3616 1108.2071,-380.4985 1117.1506,-386.1786 1118.7407,-379.3616\"/>\n<text text-anchor=\"middle\" x=\"1274.0467\" y=\"-405.8\" font-family=\"Times,serif\" font-size=\"14.00\" fill=\"#000000\">False</text>\n</g>\n<!-- 62&#45;&gt;61 -->\n<g id=\"edge62\" class=\"edge\">\n<title>62&#45;&gt;61</title>\n<path fill=\"none\" stroke=\"#000000\" d=\"M1481.4618,-440.1629C1556.9446,-424.638 1683.9742,-398.5114 1765.3516,-381.7742\"/>\n<polygon fill=\"#000000\" stroke=\"#000000\" points=\"1766.4451,-385.1226 1775.535,-379.6797 1765.0348,-378.2661 1766.4451,-385.1226\"/>\n<text text-anchor=\"middle\" x=\"1673.0467\" y=\"-405.8\" font-family=\"Times,serif\" font-size=\"14.00\" fill=\"#000000\">True</text>\n</g>\n</g>\n</svg>\n",
      "text/plain": [
       "<graphviz.graphs.Digraph at 0x7fbe26197b50>"
      ]
     },
     "execution_count": 7,
     "metadata": {},
     "output_type": "execute_result"
    }
   ],
   "source": [
    "reg = TreeRegressor(max_depth=5, threshold=0.01)\n",
    "reg.fit(Xtrain,Ytrain)\n",
    "Ypredict = reg.predict(Xtest)\n",
    "print(\"Prediction accuracy:\", mean_squared_error(Ytest, Ypredict))\n",
    "reg.draw_tree()"
   ]
  },
  {
   "cell_type": "markdown",
   "metadata": {
    "cell_id": "9e667d81-9fd5-4eca-8e68-2ff9305d1e93",
    "deepnote_cell_type": "markdown",
    "tags": []
   },
   "source": [
    "## Step 4: Underfitting and overfitting"
   ]
  },
  {
   "cell_type": "code",
   "execution_count": null,
   "metadata": {
    "cell_id": "ad730e61-f56a-4867-8f01-10c366995ec1",
    "deepnote_cell_type": "code",
    "deepnote_output_heights": [
     280
    ],
    "deepnote_to_be_reexecuted": false,
    "execution_millis": 17259,
    "execution_start": 1642763440218,
    "source_hash": "48980ca3",
    "tags": []
   },
   "outputs": [
    {
     "data": {
      "image/png": "[encoded data removed]",
      "text/plain": [
       "<Figure size 432x288 with 1 Axes>"
      ]
     },
     "metadata": {
      "image/png": {
       "height": 278,
       "width": 487
      },
      "needs_background": "light"
     },
     "output_type": "display_data"
    }
   ],
   "source": [
    "train_score = []\n",
    "test_score = []\n",
    "\n",
    "max_depths = range(13)\n",
    "for max_depth in max_depths:\n",
    "    reg = TreeRegressor(max_depth=max_depth, threshold=0.01)\n",
    "    reg.fit(Xtrain,Ytrain)\n",
    "    YpredictTest = reg.predict(Xtest)\n",
    "    YpredictTrain = reg.predict(Xtrain)\n",
    "\n",
    "    train_score.append(mean_squared_error(Ytrain, YpredictTrain))\n",
    "    test_score.append(mean_squared_error(Ytest, YpredictTest))\n",
    "\n",
    "plt.plot(train_score, color = 'red', label='train_score')\n",
    "plt.plot(test_score, color = 'blue', label='test_score')\n",
    "\n",
    "plt.ylabel('Score: Mean Squared Error')\n",
    "plt.xlabel('Tree depth')\n",
    "plt.title('Fig 2: Mean squared error score based on tree depth for training and test data')\n",
    "plt.legend()\n",
    "plt.show()\n"
   ]
  },
  {
   "cell_type": "markdown",
   "metadata": {
    "cell_id": "19f6d8c0-a6f7-4dc6-a5c0-cb9ced7a7353",
    "deepnote_cell_type": "markdown",
    "tags": []
   },
   "source": [
    "What can be observed from the plot above, see Figure 2, is that the evaluation score of the training data is getting more accurate the deeper the tree is allowed to go. If too few layers, not many features or splits of values is allowed and can differ the data from one another. Many layers will consider more details of the data when determining class or in this case, value.\n",
    "\n",
    "However, the evaluation score of the test data is getting more accurate to a certain depth, but is then getting worse if tree is allowed deeper. This is due to overfitting, where the model is fitted to details of the training data it has been fed, and will therefore not work as well for the general case and when exposed to new data. It is therefore a tradeoff of training the model to match the training data well and prevent it to be overfitted.\n",
    "\n",
    "The evaluation score of the test data is at its best with a tree depth of six, which would in this case also be a suitible maximal depth. "
   ]
  },
  {
   "cell_type": "markdown",
   "metadata": {
    "created_in_deepnote_cell": true,
    "deepnote_cell_type": "markdown",
    "tags": []
   },
   "source": [
    "<a style='text-decoration:none;line-height:16px;display:flex;color:#5B5B62;padding:10px;justify-content:end;' href='https://deepnote.com?utm_source=created-in-deepnote-cell&projectId=42461cb6-6f72-410b-bb93-ced1edaf8704' target=\"_blank\">\n",
    "<img alt='Created in deepnote.com' style='display:inline;max-height:16px;margin:0px;margin-right:7.5px;' src='data:image/svg+xml;base64,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' > </img>\n",
    "Created in <span style='font-weight:600;margin-left:4px;'>Deepnote</span></a>"
   ]
  }
 ],
 "metadata": {
  "deepnote": {
   "is_reactive": false
  },
  "deepnote_execution_queue": [],
  "deepnote_notebook_id": "39e42e3c-6564-413b-bba1-3307553ec5c6",
  "kernelspec": {
   "display_name": "Python 3.9.7 64-bit",
   "language": "python",
   "name": "python3"
  },
  "language_info": {
   "name": "python",
   "version": "3.9.7"
  },
  "orig_nbformat": 2,
  "vscode": {
   "interpreter": {
    "hash": "cb9fa36926a9e0b41c3df3c5f18bb5922c8d139d0a67a86d29e170776fb60892"
   }
  }
 },
 "nbformat": 4,
 "nbformat_minor": 2
}
